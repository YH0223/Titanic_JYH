{
 "cells": [
  {
   "cell_type": "markdown",
   "metadata": {},
   "source": [
    "## 데이터 로드 및 데이터 확인"
   ]
  },
  {
   "cell_type": "code",
   "execution_count": 3761,
   "metadata": {},
   "outputs": [
    {
     "data": {
      "text/html": [
       "<div>\n",
       "<style scoped>\n",
       "    .dataframe tbody tr th:only-of-type {\n",
       "        vertical-align: middle;\n",
       "    }\n",
       "\n",
       "    .dataframe tbody tr th {\n",
       "        vertical-align: top;\n",
       "    }\n",
       "\n",
       "    .dataframe thead th {\n",
       "        text-align: right;\n",
       "    }\n",
       "</style>\n",
       "<table border=\"1\" class=\"dataframe\">\n",
       "  <thead>\n",
       "    <tr style=\"text-align: right;\">\n",
       "      <th></th>\n",
       "      <th>PassengerId</th>\n",
       "      <th>Survived</th>\n",
       "      <th>Pclass</th>\n",
       "      <th>Name</th>\n",
       "      <th>Sex</th>\n",
       "      <th>Age</th>\n",
       "      <th>SibSp</th>\n",
       "      <th>Parch</th>\n",
       "      <th>Ticket</th>\n",
       "      <th>Fare</th>\n",
       "      <th>Cabin</th>\n",
       "      <th>Embarked</th>\n",
       "    </tr>\n",
       "  </thead>\n",
       "  <tbody>\n",
       "    <tr>\n",
       "      <th>0</th>\n",
       "      <td>1</td>\n",
       "      <td>0</td>\n",
       "      <td>3</td>\n",
       "      <td>Braund, Mr. Owen Harris</td>\n",
       "      <td>male</td>\n",
       "      <td>22.0</td>\n",
       "      <td>1</td>\n",
       "      <td>0</td>\n",
       "      <td>A/5 21171</td>\n",
       "      <td>7.2500</td>\n",
       "      <td>NaN</td>\n",
       "      <td>S</td>\n",
       "    </tr>\n",
       "    <tr>\n",
       "      <th>1</th>\n",
       "      <td>2</td>\n",
       "      <td>1</td>\n",
       "      <td>1</td>\n",
       "      <td>Cumings, Mrs. John Bradley (Florence Briggs Th...</td>\n",
       "      <td>female</td>\n",
       "      <td>38.0</td>\n",
       "      <td>1</td>\n",
       "      <td>0</td>\n",
       "      <td>PC 17599</td>\n",
       "      <td>71.2833</td>\n",
       "      <td>C85</td>\n",
       "      <td>C</td>\n",
       "    </tr>\n",
       "    <tr>\n",
       "      <th>2</th>\n",
       "      <td>3</td>\n",
       "      <td>1</td>\n",
       "      <td>3</td>\n",
       "      <td>Heikkinen, Miss. Laina</td>\n",
       "      <td>female</td>\n",
       "      <td>26.0</td>\n",
       "      <td>0</td>\n",
       "      <td>0</td>\n",
       "      <td>STON/O2. 3101282</td>\n",
       "      <td>7.9250</td>\n",
       "      <td>NaN</td>\n",
       "      <td>S</td>\n",
       "    </tr>\n",
       "    <tr>\n",
       "      <th>3</th>\n",
       "      <td>4</td>\n",
       "      <td>1</td>\n",
       "      <td>1</td>\n",
       "      <td>Futrelle, Mrs. Jacques Heath (Lily May Peel)</td>\n",
       "      <td>female</td>\n",
       "      <td>35.0</td>\n",
       "      <td>1</td>\n",
       "      <td>0</td>\n",
       "      <td>113803</td>\n",
       "      <td>53.1000</td>\n",
       "      <td>C123</td>\n",
       "      <td>S</td>\n",
       "    </tr>\n",
       "    <tr>\n",
       "      <th>4</th>\n",
       "      <td>5</td>\n",
       "      <td>0</td>\n",
       "      <td>3</td>\n",
       "      <td>Allen, Mr. William Henry</td>\n",
       "      <td>male</td>\n",
       "      <td>35.0</td>\n",
       "      <td>0</td>\n",
       "      <td>0</td>\n",
       "      <td>373450</td>\n",
       "      <td>8.0500</td>\n",
       "      <td>NaN</td>\n",
       "      <td>S</td>\n",
       "    </tr>\n",
       "    <tr>\n",
       "      <th>...</th>\n",
       "      <td>...</td>\n",
       "      <td>...</td>\n",
       "      <td>...</td>\n",
       "      <td>...</td>\n",
       "      <td>...</td>\n",
       "      <td>...</td>\n",
       "      <td>...</td>\n",
       "      <td>...</td>\n",
       "      <td>...</td>\n",
       "      <td>...</td>\n",
       "      <td>...</td>\n",
       "      <td>...</td>\n",
       "    </tr>\n",
       "    <tr>\n",
       "      <th>886</th>\n",
       "      <td>887</td>\n",
       "      <td>0</td>\n",
       "      <td>2</td>\n",
       "      <td>Montvila, Rev. Juozas</td>\n",
       "      <td>male</td>\n",
       "      <td>27.0</td>\n",
       "      <td>0</td>\n",
       "      <td>0</td>\n",
       "      <td>211536</td>\n",
       "      <td>13.0000</td>\n",
       "      <td>NaN</td>\n",
       "      <td>S</td>\n",
       "    </tr>\n",
       "    <tr>\n",
       "      <th>887</th>\n",
       "      <td>888</td>\n",
       "      <td>1</td>\n",
       "      <td>1</td>\n",
       "      <td>Graham, Miss. Margaret Edith</td>\n",
       "      <td>female</td>\n",
       "      <td>19.0</td>\n",
       "      <td>0</td>\n",
       "      <td>0</td>\n",
       "      <td>112053</td>\n",
       "      <td>30.0000</td>\n",
       "      <td>B42</td>\n",
       "      <td>S</td>\n",
       "    </tr>\n",
       "    <tr>\n",
       "      <th>888</th>\n",
       "      <td>889</td>\n",
       "      <td>0</td>\n",
       "      <td>3</td>\n",
       "      <td>Johnston, Miss. Catherine Helen \"Carrie\"</td>\n",
       "      <td>female</td>\n",
       "      <td>NaN</td>\n",
       "      <td>1</td>\n",
       "      <td>2</td>\n",
       "      <td>W./C. 6607</td>\n",
       "      <td>23.4500</td>\n",
       "      <td>NaN</td>\n",
       "      <td>S</td>\n",
       "    </tr>\n",
       "    <tr>\n",
       "      <th>889</th>\n",
       "      <td>890</td>\n",
       "      <td>1</td>\n",
       "      <td>1</td>\n",
       "      <td>Behr, Mr. Karl Howell</td>\n",
       "      <td>male</td>\n",
       "      <td>26.0</td>\n",
       "      <td>0</td>\n",
       "      <td>0</td>\n",
       "      <td>111369</td>\n",
       "      <td>30.0000</td>\n",
       "      <td>C148</td>\n",
       "      <td>C</td>\n",
       "    </tr>\n",
       "    <tr>\n",
       "      <th>890</th>\n",
       "      <td>891</td>\n",
       "      <td>0</td>\n",
       "      <td>3</td>\n",
       "      <td>Dooley, Mr. Patrick</td>\n",
       "      <td>male</td>\n",
       "      <td>32.0</td>\n",
       "      <td>0</td>\n",
       "      <td>0</td>\n",
       "      <td>370376</td>\n",
       "      <td>7.7500</td>\n",
       "      <td>NaN</td>\n",
       "      <td>Q</td>\n",
       "    </tr>\n",
       "  </tbody>\n",
       "</table>\n",
       "<p>891 rows × 12 columns</p>\n",
       "</div>"
      ],
      "text/plain": [
       "     PassengerId  Survived  Pclass  \\\n",
       "0              1         0       3   \n",
       "1              2         1       1   \n",
       "2              3         1       3   \n",
       "3              4         1       1   \n",
       "4              5         0       3   \n",
       "..           ...       ...     ...   \n",
       "886          887         0       2   \n",
       "887          888         1       1   \n",
       "888          889         0       3   \n",
       "889          890         1       1   \n",
       "890          891         0       3   \n",
       "\n",
       "                                                  Name     Sex   Age  SibSp  \\\n",
       "0                              Braund, Mr. Owen Harris    male  22.0      1   \n",
       "1    Cumings, Mrs. John Bradley (Florence Briggs Th...  female  38.0      1   \n",
       "2                               Heikkinen, Miss. Laina  female  26.0      0   \n",
       "3         Futrelle, Mrs. Jacques Heath (Lily May Peel)  female  35.0      1   \n",
       "4                             Allen, Mr. William Henry    male  35.0      0   \n",
       "..                                                 ...     ...   ...    ...   \n",
       "886                              Montvila, Rev. Juozas    male  27.0      0   \n",
       "887                       Graham, Miss. Margaret Edith  female  19.0      0   \n",
       "888           Johnston, Miss. Catherine Helen \"Carrie\"  female   NaN      1   \n",
       "889                              Behr, Mr. Karl Howell    male  26.0      0   \n",
       "890                                Dooley, Mr. Patrick    male  32.0      0   \n",
       "\n",
       "     Parch            Ticket     Fare Cabin Embarked  \n",
       "0        0         A/5 21171   7.2500   NaN        S  \n",
       "1        0          PC 17599  71.2833   C85        C  \n",
       "2        0  STON/O2. 3101282   7.9250   NaN        S  \n",
       "3        0            113803  53.1000  C123        S  \n",
       "4        0            373450   8.0500   NaN        S  \n",
       "..     ...               ...      ...   ...      ...  \n",
       "886      0            211536  13.0000   NaN        S  \n",
       "887      0            112053  30.0000   B42        S  \n",
       "888      2        W./C. 6607  23.4500   NaN        S  \n",
       "889      0            111369  30.0000  C148        C  \n",
       "890      0            370376   7.7500   NaN        Q  \n",
       "\n",
       "[891 rows x 12 columns]"
      ]
     },
     "execution_count": 3761,
     "metadata": {},
     "output_type": "execute_result"
    }
   ],
   "source": [
    "#필요한 라이브러리 로드\n",
    "\n",
    "import numpy as np \n",
    "import pandas as pd\n",
    "import matplotlib.pyplot as plt\n",
    "# matplotlib 폰트설정\n",
    "import matplotlib.font_manager as fm\n",
    "plt.rcParams['font.family']='Malgun Gothic'\n",
    "%matplotlib inline\n",
    "import seaborn as sns\n",
    "\n",
    "#train.csv 로드 및 데이터 확인\n",
    "train = pd.read_csv('./dataset/train.csv')\n",
    "train"
   ]
  },
  {
   "cell_type": "code",
   "execution_count": 3762,
   "metadata": {},
   "outputs": [
    {
     "name": "stdout",
     "output_type": "stream",
     "text": [
      "<class 'pandas.core.frame.DataFrame'>\n",
      "RangeIndex: 891 entries, 0 to 890\n",
      "Data columns (total 12 columns):\n",
      " #   Column       Non-Null Count  Dtype  \n",
      "---  ------       --------------  -----  \n",
      " 0   PassengerId  891 non-null    int64  \n",
      " 1   Survived     891 non-null    int64  \n",
      " 2   Pclass       891 non-null    int64  \n",
      " 3   Name         891 non-null    object \n",
      " 4   Sex          891 non-null    object \n",
      " 5   Age          714 non-null    float64\n",
      " 6   SibSp        891 non-null    int64  \n",
      " 7   Parch        891 non-null    int64  \n",
      " 8   Ticket       891 non-null    object \n",
      " 9   Fare         891 non-null    float64\n",
      " 10  Cabin        204 non-null    object \n",
      " 11  Embarked     889 non-null    object \n",
      "dtypes: float64(2), int64(5), object(5)\n",
      "memory usage: 83.7+ KB\n"
     ]
    }
   ],
   "source": [
    "#train.csv 개괄적인 데이터 구조 확인\n",
    "train.info()"
   ]
  },
  {
   "cell_type": "code",
   "execution_count": 3763,
   "metadata": {},
   "outputs": [
    {
     "data": {
      "text/html": [
       "<div>\n",
       "<style scoped>\n",
       "    .dataframe tbody tr th:only-of-type {\n",
       "        vertical-align: middle;\n",
       "    }\n",
       "\n",
       "    .dataframe tbody tr th {\n",
       "        vertical-align: top;\n",
       "    }\n",
       "\n",
       "    .dataframe thead th {\n",
       "        text-align: right;\n",
       "    }\n",
       "</style>\n",
       "<table border=\"1\" class=\"dataframe\">\n",
       "  <thead>\n",
       "    <tr style=\"text-align: right;\">\n",
       "      <th></th>\n",
       "      <th>PassengerId</th>\n",
       "      <th>Survived</th>\n",
       "      <th>Pclass</th>\n",
       "      <th>Name</th>\n",
       "      <th>Sex</th>\n",
       "      <th>Age</th>\n",
       "      <th>SibSp</th>\n",
       "      <th>Parch</th>\n",
       "      <th>Ticket</th>\n",
       "      <th>Fare</th>\n",
       "      <th>Cabin</th>\n",
       "      <th>Embarked</th>\n",
       "    </tr>\n",
       "  </thead>\n",
       "  <tbody>\n",
       "    <tr>\n",
       "      <th>0</th>\n",
       "      <td>1</td>\n",
       "      <td>0</td>\n",
       "      <td>3</td>\n",
       "      <td>Braund, Mr. Owen Harris</td>\n",
       "      <td>male</td>\n",
       "      <td>22.0</td>\n",
       "      <td>1</td>\n",
       "      <td>0</td>\n",
       "      <td>A/5 21171</td>\n",
       "      <td>7.2500</td>\n",
       "      <td>NaN</td>\n",
       "      <td>S</td>\n",
       "    </tr>\n",
       "    <tr>\n",
       "      <th>1</th>\n",
       "      <td>2</td>\n",
       "      <td>1</td>\n",
       "      <td>1</td>\n",
       "      <td>Cumings, Mrs. John Bradley (Florence Briggs Th...</td>\n",
       "      <td>female</td>\n",
       "      <td>38.0</td>\n",
       "      <td>1</td>\n",
       "      <td>0</td>\n",
       "      <td>PC 17599</td>\n",
       "      <td>71.2833</td>\n",
       "      <td>C85</td>\n",
       "      <td>C</td>\n",
       "    </tr>\n",
       "    <tr>\n",
       "      <th>2</th>\n",
       "      <td>3</td>\n",
       "      <td>1</td>\n",
       "      <td>3</td>\n",
       "      <td>Heikkinen, Miss. Laina</td>\n",
       "      <td>female</td>\n",
       "      <td>26.0</td>\n",
       "      <td>0</td>\n",
       "      <td>0</td>\n",
       "      <td>STON/O2. 3101282</td>\n",
       "      <td>7.9250</td>\n",
       "      <td>NaN</td>\n",
       "      <td>S</td>\n",
       "    </tr>\n",
       "    <tr>\n",
       "      <th>3</th>\n",
       "      <td>4</td>\n",
       "      <td>1</td>\n",
       "      <td>1</td>\n",
       "      <td>Futrelle, Mrs. Jacques Heath (Lily May Peel)</td>\n",
       "      <td>female</td>\n",
       "      <td>35.0</td>\n",
       "      <td>1</td>\n",
       "      <td>0</td>\n",
       "      <td>113803</td>\n",
       "      <td>53.1000</td>\n",
       "      <td>C123</td>\n",
       "      <td>S</td>\n",
       "    </tr>\n",
       "    <tr>\n",
       "      <th>4</th>\n",
       "      <td>5</td>\n",
       "      <td>0</td>\n",
       "      <td>3</td>\n",
       "      <td>Allen, Mr. William Henry</td>\n",
       "      <td>male</td>\n",
       "      <td>35.0</td>\n",
       "      <td>0</td>\n",
       "      <td>0</td>\n",
       "      <td>373450</td>\n",
       "      <td>8.0500</td>\n",
       "      <td>NaN</td>\n",
       "      <td>S</td>\n",
       "    </tr>\n",
       "  </tbody>\n",
       "</table>\n",
       "</div>"
      ],
      "text/plain": [
       "   PassengerId  Survived  Pclass  \\\n",
       "0            1         0       3   \n",
       "1            2         1       1   \n",
       "2            3         1       3   \n",
       "3            4         1       1   \n",
       "4            5         0       3   \n",
       "\n",
       "                                                Name     Sex   Age  SibSp  \\\n",
       "0                            Braund, Mr. Owen Harris    male  22.0      1   \n",
       "1  Cumings, Mrs. John Bradley (Florence Briggs Th...  female  38.0      1   \n",
       "2                             Heikkinen, Miss. Laina  female  26.0      0   \n",
       "3       Futrelle, Mrs. Jacques Heath (Lily May Peel)  female  35.0      1   \n",
       "4                           Allen, Mr. William Henry    male  35.0      0   \n",
       "\n",
       "   Parch            Ticket     Fare Cabin Embarked  \n",
       "0      0         A/5 21171   7.2500   NaN        S  \n",
       "1      0          PC 17599  71.2833   C85        C  \n",
       "2      0  STON/O2. 3101282   7.9250   NaN        S  \n",
       "3      0            113803  53.1000  C123        S  \n",
       "4      0            373450   8.0500   NaN        S  "
      ]
     },
     "execution_count": 3763,
     "metadata": {},
     "output_type": "execute_result"
    }
   ],
   "source": [
    "#train.csv 상위 5개 데이터 확인\n",
    "train.head()"
   ]
  },
  {
   "cell_type": "code",
   "execution_count": 3764,
   "metadata": {},
   "outputs": [
    {
     "data": {
      "text/html": [
       "<div>\n",
       "<style scoped>\n",
       "    .dataframe tbody tr th:only-of-type {\n",
       "        vertical-align: middle;\n",
       "    }\n",
       "\n",
       "    .dataframe tbody tr th {\n",
       "        vertical-align: top;\n",
       "    }\n",
       "\n",
       "    .dataframe thead th {\n",
       "        text-align: right;\n",
       "    }\n",
       "</style>\n",
       "<table border=\"1\" class=\"dataframe\">\n",
       "  <thead>\n",
       "    <tr style=\"text-align: right;\">\n",
       "      <th></th>\n",
       "      <th>PassengerId</th>\n",
       "      <th>Survived</th>\n",
       "      <th>Pclass</th>\n",
       "      <th>Name</th>\n",
       "      <th>Sex</th>\n",
       "      <th>Age</th>\n",
       "      <th>SibSp</th>\n",
       "      <th>Parch</th>\n",
       "      <th>Ticket</th>\n",
       "      <th>Fare</th>\n",
       "      <th>Cabin</th>\n",
       "      <th>Embarked</th>\n",
       "    </tr>\n",
       "  </thead>\n",
       "  <tbody>\n",
       "    <tr>\n",
       "      <th>886</th>\n",
       "      <td>887</td>\n",
       "      <td>0</td>\n",
       "      <td>2</td>\n",
       "      <td>Montvila, Rev. Juozas</td>\n",
       "      <td>male</td>\n",
       "      <td>27.0</td>\n",
       "      <td>0</td>\n",
       "      <td>0</td>\n",
       "      <td>211536</td>\n",
       "      <td>13.00</td>\n",
       "      <td>NaN</td>\n",
       "      <td>S</td>\n",
       "    </tr>\n",
       "    <tr>\n",
       "      <th>887</th>\n",
       "      <td>888</td>\n",
       "      <td>1</td>\n",
       "      <td>1</td>\n",
       "      <td>Graham, Miss. Margaret Edith</td>\n",
       "      <td>female</td>\n",
       "      <td>19.0</td>\n",
       "      <td>0</td>\n",
       "      <td>0</td>\n",
       "      <td>112053</td>\n",
       "      <td>30.00</td>\n",
       "      <td>B42</td>\n",
       "      <td>S</td>\n",
       "    </tr>\n",
       "    <tr>\n",
       "      <th>888</th>\n",
       "      <td>889</td>\n",
       "      <td>0</td>\n",
       "      <td>3</td>\n",
       "      <td>Johnston, Miss. Catherine Helen \"Carrie\"</td>\n",
       "      <td>female</td>\n",
       "      <td>NaN</td>\n",
       "      <td>1</td>\n",
       "      <td>2</td>\n",
       "      <td>W./C. 6607</td>\n",
       "      <td>23.45</td>\n",
       "      <td>NaN</td>\n",
       "      <td>S</td>\n",
       "    </tr>\n",
       "    <tr>\n",
       "      <th>889</th>\n",
       "      <td>890</td>\n",
       "      <td>1</td>\n",
       "      <td>1</td>\n",
       "      <td>Behr, Mr. Karl Howell</td>\n",
       "      <td>male</td>\n",
       "      <td>26.0</td>\n",
       "      <td>0</td>\n",
       "      <td>0</td>\n",
       "      <td>111369</td>\n",
       "      <td>30.00</td>\n",
       "      <td>C148</td>\n",
       "      <td>C</td>\n",
       "    </tr>\n",
       "    <tr>\n",
       "      <th>890</th>\n",
       "      <td>891</td>\n",
       "      <td>0</td>\n",
       "      <td>3</td>\n",
       "      <td>Dooley, Mr. Patrick</td>\n",
       "      <td>male</td>\n",
       "      <td>32.0</td>\n",
       "      <td>0</td>\n",
       "      <td>0</td>\n",
       "      <td>370376</td>\n",
       "      <td>7.75</td>\n",
       "      <td>NaN</td>\n",
       "      <td>Q</td>\n",
       "    </tr>\n",
       "  </tbody>\n",
       "</table>\n",
       "</div>"
      ],
      "text/plain": [
       "     PassengerId  Survived  Pclass                                      Name  \\\n",
       "886          887         0       2                     Montvila, Rev. Juozas   \n",
       "887          888         1       1              Graham, Miss. Margaret Edith   \n",
       "888          889         0       3  Johnston, Miss. Catherine Helen \"Carrie\"   \n",
       "889          890         1       1                     Behr, Mr. Karl Howell   \n",
       "890          891         0       3                       Dooley, Mr. Patrick   \n",
       "\n",
       "        Sex   Age  SibSp  Parch      Ticket   Fare Cabin Embarked  \n",
       "886    male  27.0      0      0      211536  13.00   NaN        S  \n",
       "887  female  19.0      0      0      112053  30.00   B42        S  \n",
       "888  female   NaN      1      2  W./C. 6607  23.45   NaN        S  \n",
       "889    male  26.0      0      0      111369  30.00  C148        C  \n",
       "890    male  32.0      0      0      370376   7.75   NaN        Q  "
      ]
     },
     "execution_count": 3764,
     "metadata": {},
     "output_type": "execute_result"
    }
   ],
   "source": [
    "#train.csv 하위 5개 데이터 확인\n",
    "train.tail()"
   ]
  },
  {
   "cell_type": "code",
   "execution_count": 3765,
   "metadata": {},
   "outputs": [
    {
     "data": {
      "text/html": [
       "<div>\n",
       "<style scoped>\n",
       "    .dataframe tbody tr th:only-of-type {\n",
       "        vertical-align: middle;\n",
       "    }\n",
       "\n",
       "    .dataframe tbody tr th {\n",
       "        vertical-align: top;\n",
       "    }\n",
       "\n",
       "    .dataframe thead th {\n",
       "        text-align: right;\n",
       "    }\n",
       "</style>\n",
       "<table border=\"1\" class=\"dataframe\">\n",
       "  <thead>\n",
       "    <tr style=\"text-align: right;\">\n",
       "      <th></th>\n",
       "      <th>PassengerId</th>\n",
       "      <th>Pclass</th>\n",
       "      <th>Name</th>\n",
       "      <th>Sex</th>\n",
       "      <th>Age</th>\n",
       "      <th>SibSp</th>\n",
       "      <th>Parch</th>\n",
       "      <th>Ticket</th>\n",
       "      <th>Fare</th>\n",
       "      <th>Cabin</th>\n",
       "      <th>Embarked</th>\n",
       "    </tr>\n",
       "  </thead>\n",
       "  <tbody>\n",
       "    <tr>\n",
       "      <th>0</th>\n",
       "      <td>892</td>\n",
       "      <td>3</td>\n",
       "      <td>Kelly, Mr. James</td>\n",
       "      <td>male</td>\n",
       "      <td>34.5</td>\n",
       "      <td>0</td>\n",
       "      <td>0</td>\n",
       "      <td>330911</td>\n",
       "      <td>7.8292</td>\n",
       "      <td>NaN</td>\n",
       "      <td>Q</td>\n",
       "    </tr>\n",
       "    <tr>\n",
       "      <th>1</th>\n",
       "      <td>893</td>\n",
       "      <td>3</td>\n",
       "      <td>Wilkes, Mrs. James (Ellen Needs)</td>\n",
       "      <td>female</td>\n",
       "      <td>47.0</td>\n",
       "      <td>1</td>\n",
       "      <td>0</td>\n",
       "      <td>363272</td>\n",
       "      <td>7.0000</td>\n",
       "      <td>NaN</td>\n",
       "      <td>S</td>\n",
       "    </tr>\n",
       "    <tr>\n",
       "      <th>2</th>\n",
       "      <td>894</td>\n",
       "      <td>2</td>\n",
       "      <td>Myles, Mr. Thomas Francis</td>\n",
       "      <td>male</td>\n",
       "      <td>62.0</td>\n",
       "      <td>0</td>\n",
       "      <td>0</td>\n",
       "      <td>240276</td>\n",
       "      <td>9.6875</td>\n",
       "      <td>NaN</td>\n",
       "      <td>Q</td>\n",
       "    </tr>\n",
       "    <tr>\n",
       "      <th>3</th>\n",
       "      <td>895</td>\n",
       "      <td>3</td>\n",
       "      <td>Wirz, Mr. Albert</td>\n",
       "      <td>male</td>\n",
       "      <td>27.0</td>\n",
       "      <td>0</td>\n",
       "      <td>0</td>\n",
       "      <td>315154</td>\n",
       "      <td>8.6625</td>\n",
       "      <td>NaN</td>\n",
       "      <td>S</td>\n",
       "    </tr>\n",
       "    <tr>\n",
       "      <th>4</th>\n",
       "      <td>896</td>\n",
       "      <td>3</td>\n",
       "      <td>Hirvonen, Mrs. Alexander (Helga E Lindqvist)</td>\n",
       "      <td>female</td>\n",
       "      <td>22.0</td>\n",
       "      <td>1</td>\n",
       "      <td>1</td>\n",
       "      <td>3101298</td>\n",
       "      <td>12.2875</td>\n",
       "      <td>NaN</td>\n",
       "      <td>S</td>\n",
       "    </tr>\n",
       "    <tr>\n",
       "      <th>...</th>\n",
       "      <td>...</td>\n",
       "      <td>...</td>\n",
       "      <td>...</td>\n",
       "      <td>...</td>\n",
       "      <td>...</td>\n",
       "      <td>...</td>\n",
       "      <td>...</td>\n",
       "      <td>...</td>\n",
       "      <td>...</td>\n",
       "      <td>...</td>\n",
       "      <td>...</td>\n",
       "    </tr>\n",
       "    <tr>\n",
       "      <th>413</th>\n",
       "      <td>1305</td>\n",
       "      <td>3</td>\n",
       "      <td>Spector, Mr. Woolf</td>\n",
       "      <td>male</td>\n",
       "      <td>NaN</td>\n",
       "      <td>0</td>\n",
       "      <td>0</td>\n",
       "      <td>A.5. 3236</td>\n",
       "      <td>8.0500</td>\n",
       "      <td>NaN</td>\n",
       "      <td>S</td>\n",
       "    </tr>\n",
       "    <tr>\n",
       "      <th>414</th>\n",
       "      <td>1306</td>\n",
       "      <td>1</td>\n",
       "      <td>Oliva y Ocana, Dona. Fermina</td>\n",
       "      <td>female</td>\n",
       "      <td>39.0</td>\n",
       "      <td>0</td>\n",
       "      <td>0</td>\n",
       "      <td>PC 17758</td>\n",
       "      <td>108.9000</td>\n",
       "      <td>C105</td>\n",
       "      <td>C</td>\n",
       "    </tr>\n",
       "    <tr>\n",
       "      <th>415</th>\n",
       "      <td>1307</td>\n",
       "      <td>3</td>\n",
       "      <td>Saether, Mr. Simon Sivertsen</td>\n",
       "      <td>male</td>\n",
       "      <td>38.5</td>\n",
       "      <td>0</td>\n",
       "      <td>0</td>\n",
       "      <td>SOTON/O.Q. 3101262</td>\n",
       "      <td>7.2500</td>\n",
       "      <td>NaN</td>\n",
       "      <td>S</td>\n",
       "    </tr>\n",
       "    <tr>\n",
       "      <th>416</th>\n",
       "      <td>1308</td>\n",
       "      <td>3</td>\n",
       "      <td>Ware, Mr. Frederick</td>\n",
       "      <td>male</td>\n",
       "      <td>NaN</td>\n",
       "      <td>0</td>\n",
       "      <td>0</td>\n",
       "      <td>359309</td>\n",
       "      <td>8.0500</td>\n",
       "      <td>NaN</td>\n",
       "      <td>S</td>\n",
       "    </tr>\n",
       "    <tr>\n",
       "      <th>417</th>\n",
       "      <td>1309</td>\n",
       "      <td>3</td>\n",
       "      <td>Peter, Master. Michael J</td>\n",
       "      <td>male</td>\n",
       "      <td>NaN</td>\n",
       "      <td>1</td>\n",
       "      <td>1</td>\n",
       "      <td>2668</td>\n",
       "      <td>22.3583</td>\n",
       "      <td>NaN</td>\n",
       "      <td>C</td>\n",
       "    </tr>\n",
       "  </tbody>\n",
       "</table>\n",
       "<p>418 rows × 11 columns</p>\n",
       "</div>"
      ],
      "text/plain": [
       "     PassengerId  Pclass                                          Name  \\\n",
       "0            892       3                              Kelly, Mr. James   \n",
       "1            893       3              Wilkes, Mrs. James (Ellen Needs)   \n",
       "2            894       2                     Myles, Mr. Thomas Francis   \n",
       "3            895       3                              Wirz, Mr. Albert   \n",
       "4            896       3  Hirvonen, Mrs. Alexander (Helga E Lindqvist)   \n",
       "..           ...     ...                                           ...   \n",
       "413         1305       3                            Spector, Mr. Woolf   \n",
       "414         1306       1                  Oliva y Ocana, Dona. Fermina   \n",
       "415         1307       3                  Saether, Mr. Simon Sivertsen   \n",
       "416         1308       3                           Ware, Mr. Frederick   \n",
       "417         1309       3                      Peter, Master. Michael J   \n",
       "\n",
       "        Sex   Age  SibSp  Parch              Ticket      Fare Cabin Embarked  \n",
       "0      male  34.5      0      0              330911    7.8292   NaN        Q  \n",
       "1    female  47.0      1      0              363272    7.0000   NaN        S  \n",
       "2      male  62.0      0      0              240276    9.6875   NaN        Q  \n",
       "3      male  27.0      0      0              315154    8.6625   NaN        S  \n",
       "4    female  22.0      1      1             3101298   12.2875   NaN        S  \n",
       "..      ...   ...    ...    ...                 ...       ...   ...      ...  \n",
       "413    male   NaN      0      0           A.5. 3236    8.0500   NaN        S  \n",
       "414  female  39.0      0      0            PC 17758  108.9000  C105        C  \n",
       "415    male  38.5      0      0  SOTON/O.Q. 3101262    7.2500   NaN        S  \n",
       "416    male   NaN      0      0              359309    8.0500   NaN        S  \n",
       "417    male   NaN      1      1                2668   22.3583   NaN        C  \n",
       "\n",
       "[418 rows x 11 columns]"
      ]
     },
     "execution_count": 3765,
     "metadata": {},
     "output_type": "execute_result"
    }
   ],
   "source": [
    "#test.csv 데이터 로드 및 확인\n",
    "test = pd.read_csv('./dataset/test.csv')\n",
    "test"
   ]
  },
  {
   "cell_type": "code",
   "execution_count": 3766,
   "metadata": {},
   "outputs": [
    {
     "name": "stdout",
     "output_type": "stream",
     "text": [
      "<class 'pandas.core.frame.DataFrame'>\n",
      "RangeIndex: 418 entries, 0 to 417\n",
      "Data columns (total 11 columns):\n",
      " #   Column       Non-Null Count  Dtype  \n",
      "---  ------       --------------  -----  \n",
      " 0   PassengerId  418 non-null    int64  \n",
      " 1   Pclass       418 non-null    int64  \n",
      " 2   Name         418 non-null    object \n",
      " 3   Sex          418 non-null    object \n",
      " 4   Age          332 non-null    float64\n",
      " 5   SibSp        418 non-null    int64  \n",
      " 6   Parch        418 non-null    int64  \n",
      " 7   Ticket       418 non-null    object \n",
      " 8   Fare         417 non-null    float64\n",
      " 9   Cabin        91 non-null     object \n",
      " 10  Embarked     418 non-null    object \n",
      "dtypes: float64(2), int64(4), object(5)\n",
      "memory usage: 36.0+ KB\n"
     ]
    }
   ],
   "source": [
    "#test.csv 정보 확인 \n",
    "test.info()"
   ]
  },
  {
   "cell_type": "markdown",
   "metadata": {},
   "source": [
    "### 데이터 탐색 및 시각화\n",
    "\n",
    "* Pclass : 객실등급\n",
    "* SibSp : Sibling Spouse -> 동승자 수 \n",
    "* Parch : Parent, Child -> 아이와 부모가 함께 탔는지 여부\n",
    "* Ticket : 티켓 번호\n",
    "* Fare : 요금\n",
    "* Cabin : 객실\n",
    "* Embarked : 승선 위치"
   ]
  },
  {
   "cell_type": "markdown",
   "metadata": {},
   "source": [
    "+ 데이터 보호를 위해 데이터셋 복사"
   ]
  },
  {
   "cell_type": "code",
   "execution_count": 3767,
   "metadata": {},
   "outputs": [],
   "source": [
    "train_df=train.copy()\n",
    "test_df=test.copy()"
   ]
  },
  {
   "cell_type": "markdown",
   "metadata": {},
   "source": [
    "* 차트를 쉽게 만들기 위한 함수 선언"
   ]
  },
  {
   "cell_type": "code",
   "execution_count": 3768,
   "metadata": {},
   "outputs": [
    {
     "data": {
      "text/plain": [
       "PassengerId                          1\n",
       "Survived                             0\n",
       "Pclass                               3\n",
       "Name           Braund, Mr. Owen Harris\n",
       "Sex                               male\n",
       "Age                               22.0\n",
       "SibSp                                1\n",
       "Parch                                0\n",
       "Ticket                       A/5 21171\n",
       "Fare                              7.25\n",
       "Cabin                              NaN\n",
       "Embarked                             S\n",
       "Name: 0, dtype: object"
      ]
     },
     "execution_count": 3768,
     "metadata": {},
     "output_type": "execute_result"
    }
   ],
   "source": [
    "# 데이터의 0번째 행 확인\n",
    "train.loc[0]"
   ]
  },
  {
   "cell_type": "code",
   "execution_count": 3769,
   "metadata": {},
   "outputs": [
    {
     "data": {
      "text/html": [
       "<div>\n",
       "<style scoped>\n",
       "    .dataframe tbody tr th:only-of-type {\n",
       "        vertical-align: middle;\n",
       "    }\n",
       "\n",
       "    .dataframe tbody tr th {\n",
       "        vertical-align: top;\n",
       "    }\n",
       "\n",
       "    .dataframe thead th {\n",
       "        text-align: right;\n",
       "    }\n",
       "</style>\n",
       "<table border=\"1\" class=\"dataframe\">\n",
       "  <thead>\n",
       "    <tr style=\"text-align: right;\">\n",
       "      <th></th>\n",
       "      <th>PassengerId</th>\n",
       "      <th>Survived</th>\n",
       "      <th>Pclass</th>\n",
       "      <th>Age</th>\n",
       "      <th>SibSp</th>\n",
       "      <th>Parch</th>\n",
       "      <th>Fare</th>\n",
       "    </tr>\n",
       "  </thead>\n",
       "  <tbody>\n",
       "    <tr>\n",
       "      <th>count</th>\n",
       "      <td>891.000000</td>\n",
       "      <td>891.000000</td>\n",
       "      <td>891.000000</td>\n",
       "      <td>714.000000</td>\n",
       "      <td>891.000000</td>\n",
       "      <td>891.000000</td>\n",
       "      <td>891.000000</td>\n",
       "    </tr>\n",
       "    <tr>\n",
       "      <th>mean</th>\n",
       "      <td>446.000000</td>\n",
       "      <td>0.383838</td>\n",
       "      <td>2.308642</td>\n",
       "      <td>29.699118</td>\n",
       "      <td>0.523008</td>\n",
       "      <td>0.381594</td>\n",
       "      <td>32.204208</td>\n",
       "    </tr>\n",
       "    <tr>\n",
       "      <th>std</th>\n",
       "      <td>257.353842</td>\n",
       "      <td>0.486592</td>\n",
       "      <td>0.836071</td>\n",
       "      <td>14.526497</td>\n",
       "      <td>1.102743</td>\n",
       "      <td>0.806057</td>\n",
       "      <td>49.693429</td>\n",
       "    </tr>\n",
       "    <tr>\n",
       "      <th>min</th>\n",
       "      <td>1.000000</td>\n",
       "      <td>0.000000</td>\n",
       "      <td>1.000000</td>\n",
       "      <td>0.420000</td>\n",
       "      <td>0.000000</td>\n",
       "      <td>0.000000</td>\n",
       "      <td>0.000000</td>\n",
       "    </tr>\n",
       "    <tr>\n",
       "      <th>25%</th>\n",
       "      <td>223.500000</td>\n",
       "      <td>0.000000</td>\n",
       "      <td>2.000000</td>\n",
       "      <td>20.125000</td>\n",
       "      <td>0.000000</td>\n",
       "      <td>0.000000</td>\n",
       "      <td>7.910400</td>\n",
       "    </tr>\n",
       "    <tr>\n",
       "      <th>50%</th>\n",
       "      <td>446.000000</td>\n",
       "      <td>0.000000</td>\n",
       "      <td>3.000000</td>\n",
       "      <td>28.000000</td>\n",
       "      <td>0.000000</td>\n",
       "      <td>0.000000</td>\n",
       "      <td>14.454200</td>\n",
       "    </tr>\n",
       "    <tr>\n",
       "      <th>75%</th>\n",
       "      <td>668.500000</td>\n",
       "      <td>1.000000</td>\n",
       "      <td>3.000000</td>\n",
       "      <td>38.000000</td>\n",
       "      <td>1.000000</td>\n",
       "      <td>0.000000</td>\n",
       "      <td>31.000000</td>\n",
       "    </tr>\n",
       "    <tr>\n",
       "      <th>max</th>\n",
       "      <td>891.000000</td>\n",
       "      <td>1.000000</td>\n",
       "      <td>3.000000</td>\n",
       "      <td>80.000000</td>\n",
       "      <td>8.000000</td>\n",
       "      <td>6.000000</td>\n",
       "      <td>512.329200</td>\n",
       "    </tr>\n",
       "  </tbody>\n",
       "</table>\n",
       "</div>"
      ],
      "text/plain": [
       "       PassengerId    Survived      Pclass         Age       SibSp  \\\n",
       "count   891.000000  891.000000  891.000000  714.000000  891.000000   \n",
       "mean    446.000000    0.383838    2.308642   29.699118    0.523008   \n",
       "std     257.353842    0.486592    0.836071   14.526497    1.102743   \n",
       "min       1.000000    0.000000    1.000000    0.420000    0.000000   \n",
       "25%     223.500000    0.000000    2.000000   20.125000    0.000000   \n",
       "50%     446.000000    0.000000    3.000000   28.000000    0.000000   \n",
       "75%     668.500000    1.000000    3.000000   38.000000    1.000000   \n",
       "max     891.000000    1.000000    3.000000   80.000000    8.000000   \n",
       "\n",
       "            Parch        Fare  \n",
       "count  891.000000  891.000000  \n",
       "mean     0.381594   32.204208  \n",
       "std      0.806057   49.693429  \n",
       "min      0.000000    0.000000  \n",
       "25%      0.000000    7.910400  \n",
       "50%      0.000000   14.454200  \n",
       "75%      0.000000   31.000000  \n",
       "max      6.000000  512.329200  "
      ]
     },
     "execution_count": 3769,
     "metadata": {},
     "output_type": "execute_result"
    }
   ],
   "source": [
    "train.describe()"
   ]
  },
  {
   "cell_type": "markdown",
   "metadata": {},
   "source": [
    "* 타겟 변수 확인 : 생존 여부를 결정하는 Survived의 그래프 확인"
   ]
  },
  {
   "cell_type": "code",
   "execution_count": 3770,
   "metadata": {},
   "outputs": [
    {
     "data": {
      "image/png": "[encoded data removed]",
      "text/plain": [
       "<Figure size 640x480 with 1 Axes>"
      ]
     },
     "metadata": {},
     "output_type": "display_data"
    }
   ],
   "source": [
    "train_df['Survived'].value_counts().plot.bar()\n",
    "plt.xlabel('생존 여부')\n",
    "plt.ylabel('생존자 수')\n",
    "plt.title('Survived')\n",
    "plt.show()"
   ]
  },
  {
   "cell_type": "markdown",
   "metadata": {},
   "source": [
    "* 성별에 따른 생존률 - Sex"
   ]
  },
  {
   "cell_type": "code",
   "execution_count": 3771,
   "metadata": {},
   "outputs": [
    {
     "data": {
      "text/plain": [
       "18.890814558058924"
      ]
     },
     "execution_count": 3771,
     "metadata": {},
     "output_type": "execute_result"
    }
   ],
   "source": [
    "#male 생존률 / 사망률\n",
    "total_male = train_df[train_df['Sex'] == 'male'].shape[0]\n",
    "total_female = train_df[train_df['Sex'] == 'female'].shape[0]\n",
    "survived_male = train_df[(train_df['Sex'] == 'male') & (train_df['Survived'] == 1)].shape[0]\n",
    "\n",
    "\n",
    "survival_rate_male = (survived_male / total_male) * 100\n",
    "dead_male_rate = ((total_male - survived_male) / total_male) * 100\n",
    "survival_rate_male\n"
   ]
  },
  {
   "cell_type": "code",
   "execution_count": 3772,
   "metadata": {},
   "outputs": [
    {
     "data": {
      "text/plain": [
       "74.20382165605095"
      ]
     },
     "execution_count": 3772,
     "metadata": {},
     "output_type": "execute_result"
    }
   ],
   "source": [
    "#female 생존률/사망률\n",
    "survived_female = train_df[(train_df['Sex'] == 'female') & (train_df['Survived'] == 1)].shape[0]\n",
    "total_female = train_df[train_df['Sex'] == 'female'].shape[0]\n",
    "survival_rate_female = (survived_female / total_female) * 100\n",
    "dead_female_rate = ((total_female - survived_female) / total_female) * 100\n",
    "survival_rate_female "
   ]
  },
  {
   "cell_type": "code",
   "execution_count": 3773,
   "metadata": {},
   "outputs": [
    {
     "data": {
      "text/plain": [
       "Text(0.5, 1.0, '성별에 따른 생존률')"
      ]
     },
     "execution_count": 3773,
     "metadata": {},
     "output_type": "execute_result"
    },
    {
     "data": {
      "image/png": "[encoded data removed]",
      "text/plain": [
       "<Figure size 640x480 with 1 Axes>"
      ]
     },
     "metadata": {},
     "output_type": "display_data"
    }
   ],
   "source": [
    "fig, ax = plt.subplots()\n",
    "sex = train_df.Sex.unique().tolist()\n",
    "counts_sex= [survival_rate_male, survival_rate_female]\n",
    "bar_colors = ['tab:blue', 'tab:red']\n",
    "\n",
    "ax.bar(sex, counts_sex, color=bar_colors)\n",
    "ax.set_ylabel('생존률 (%)')\n",
    "ax.set_title('성별에 따른 생존률')"
   ]
  },
  {
   "cell_type": "markdown",
   "metadata": {},
   "source": [
    "**남성의 생존률이 여성의 생존률보다 낮다**는 결과를 도출 할 수 있다."
   ]
  },
  {
   "cell_type": "code",
   "execution_count": 3774,
   "metadata": {},
   "outputs": [
    {
     "data": {
      "image/png": "[encoded data removed]",
      "text/plain": [
       "<Figure size 640x480 with 1 Axes>"
      ]
     },
     "metadata": {},
     "output_type": "display_data"
    }
   ],
   "source": [
    "fig, ax = plt.subplots()\n",
    "sex = train_df.Sex.unique().tolist()\n",
    "survived_rate_sex = [survival_rate_male, survival_rate_female]\n",
    "dead_rate = [dead_male_rate, dead_female_rate]\n",
    "x = np.arange(len(sex))\n",
    "width = 0.3\n",
    "\n",
    "ax.bar(x, survived_rate_sex, width, label='생존', color='tab:blue')\n",
    "ax.bar(x + width, dead_rate, width, color='tab:red', label='사망')\n",
    "ax.set_xticks(x + width / 2)\n",
    "ax.set_xticklabels(sex)\n",
    "ax.set_title('성별에 따른 생존률 및 사망률(백분율)')\n",
    "ax.set_ylabel('생존률 (%)')\n",
    "ax.legend(title='범례')\n",
    "\n",
    "plt.show()\n"
   ]
  },
  {
   "cell_type": "markdown",
   "metadata": {},
   "source": [
    "* 동승자 여부에 따른 생존률 \n",
    "    1. SibSp\n",
    "    2. Parch\n",
    "    3. SibSp&Parch\n",
    "1. SibSp"
   ]
  },
  {
   "cell_type": "code",
   "execution_count": 3775,
   "metadata": {},
   "outputs": [
    {
     "data": {
      "text/plain": [
       "SibSp\n",
       "0    34.539474\n",
       "1    53.588517\n",
       "2    46.428571\n",
       "3    25.000000\n",
       "4    16.666667\n",
       "5          NaN\n",
       "8          NaN\n",
       "dtype: float64"
      ]
     },
     "execution_count": 3775,
     "metadata": {},
     "output_type": "execute_result"
    }
   ],
   "source": [
    "total_sibsp = train_df.groupby('SibSp').size()\n",
    "survived_sibsp = train_df[train_df['Survived'] == 1].groupby('SibSp').size()\n",
    "survival_rate_sibsp = (survived_sibsp / total_sibsp) * 100\n",
    "dead_rate_sibsp = ((total_sibsp - survived_sibsp) / total_sibsp) * 100\n",
    "survival_rate_sibsp"
   ]
  },
  {
   "cell_type": "code",
   "execution_count": 3776,
   "metadata": {},
   "outputs": [
    {
     "data": {
      "image/png": "[encoded data removed]",
      "text/plain": [
       "<Figure size 1000x600 with 1 Axes>"
      ]
     },
     "metadata": {},
     "output_type": "display_data"
    }
   ],
   "source": [
    "fig, ax = plt.subplots(figsize=(10, 6))\n",
    "sibsp_values = total_sibsp.index.tolist()  # SibSp의 고유값\n",
    "x = np.arange(len(sibsp_values))  # x축 위치\n",
    "width = 0.3\n",
    "# 생존률 및 사망률 그래프\n",
    "ax.bar(x, survival_rate_sibsp, width, label='Survived', color='tab:blue')\n",
    "ax.bar(x + width, dead_rate_sibsp, width, label='Dead', color='tab:red')\n",
    "\n",
    "# x축 설정\n",
    "ax.set_xticks(x + width / 2)\n",
    "ax.set_xticklabels(sibsp_values)\n",
    "ax.set_title('Sipsp에 따른 생존률 및 사망률 (백분율)')\n",
    "ax.set_xlabel('SibSp (형제자매/배우자 수)')\n",
    "ax.set_ylabel('Rate (%)')\n",
    "ax.legend(title='State')\n",
    "\n",
    "plt.show()"
   ]
  },
  {
   "cell_type": "markdown",
   "metadata": {},
   "source": [
    "**동승한 형제 자매의  수가 1명인 경우 생존률이 가장 높지만, 점점 우하향**하는것을 확인 가능, 본 데이터로는 규칙성 찾기 어려움\n",
    "\n",
    "2.  Parch"
   ]
  },
  {
   "cell_type": "code",
   "execution_count": 3777,
   "metadata": {},
   "outputs": [
    {
     "data": {
      "text/plain": [
       "Parch\n",
       "0    34.365782\n",
       "1    55.084746\n",
       "2    50.000000\n",
       "3    60.000000\n",
       "4          NaN\n",
       "5    20.000000\n",
       "6          NaN\n",
       "dtype: float64"
      ]
     },
     "execution_count": 3777,
     "metadata": {},
     "output_type": "execute_result"
    }
   ],
   "source": [
    "total_parch = train_df.groupby('Parch').size()\n",
    "survived_parch = train_df[train_df['Survived'] == 1].groupby('Parch').size()\n",
    "survival_rate_parch = (survived_parch / total_parch) * 100\n",
    "dead_rate_parch = ((total_parch - survived_parch) / total_parch) * 100\n",
    "\n",
    "\n",
    "survival_rate_parch"
   ]
  },
  {
   "cell_type": "code",
   "execution_count": 3778,
   "metadata": {},
   "outputs": [
    {
     "data": {
      "image/png": "[encoded data removed]",
      "text/plain": [
       "<Figure size 1000x600 with 1 Axes>"
      ]
     },
     "metadata": {},
     "output_type": "display_data"
    }
   ],
   "source": [
    "fig, ax = plt.subplots(figsize=(10, 6))\n",
    "parch_values = total_parch.index.tolist()  # Parch의 고유값\n",
    "x = np.arange(len(parch_values))  # x축 위치\n",
    "width = 0.3\n",
    "\n",
    "# 생존률 및 사망률 그래프\n",
    "ax.bar(x, survival_rate_parch, width, label='Survived', color='tab:blue')\n",
    "ax.bar(x + width, dead_rate_parch, width, label='Dead', color='tab:red')\n",
    "\n",
    "# x축 설정\n",
    "ax.set_xticks(x + width / 2)\n",
    "ax.set_xticklabels(parch_values)\n",
    "ax.set_title('Parch에 따른 생존률 및 사망률 (백분율)')\n",
    "ax.set_xlabel('Parch (부모/자녀 수)')\n",
    "ax.set_ylabel('Rate (%)')\n",
    "ax.legend(title='State')\n",
    "\n",
    "plt.show()"
   ]
  },
  {
   "cell_type": "markdown",
   "metadata": {},
   "source": [
    "**자녀 3명이상의 대가족이 아닌경우, 자녀의 수가 많을수록 대체적으로 생존률이 높아진다**는 것을 확인 가능\n"
   ]
  },
  {
   "cell_type": "markdown",
   "metadata": {},
   "source": [
    "\n",
    "3. Sipsp & Parch    \n",
    "이 경우    \n",
    "1.자녀와 형제자매를 모두 데려온 경우.    \n",
    "2.가족만 데려온 경우.    \n",
    "3.자녀만 데려온경우.    \n",
    "4.둘다 데려오지 않은 경우    \n",
    "4가지 케이스로 나눠 계산한다."
   ]
  },
  {
   "cell_type": "code",
   "execution_count": 3779,
   "metadata": {},
   "outputs": [
    {
     "data": {
      "text/plain": [
       "(43.66197183098591, 56.33802816901409)"
      ]
     },
     "execution_count": 3779,
     "metadata": {},
     "output_type": "execute_result"
    }
   ],
   "source": [
    "# 조건별 데이터 분리\n",
    "with_family = train_df[(train_df['SibSp'] > 0) & (train_df['Parch'] > 0)]  # 자녀와 형제자매 모두 데려온 경우\n",
    "sibsp_only = train_df[(train_df['SibSp'] > 0) & (train_df['Parch'] == 0)]  # 형제자매만 데려온 경우\n",
    "parch_only = train_df[(train_df['SibSp'] == 0) & (train_df['Parch'] > 0)]  # 자녀만 데려온 경우\n",
    "neither = train_df[(train_df['SibSp'] == 0) & (train_df['Parch'] == 0)]    # 둘 다 데려오지 않은 경우\n",
    "\n",
    "# 생존률 및 사망률 계산 함수\n",
    "def calculate_rates(df):\n",
    "    total = df.shape[0]\n",
    "    if total == 0:  # 데이터가 없는 경우 예외 처리\n",
    "        return 0, 0\n",
    "    survived = df[df['Survived'] == 1].shape[0]\n",
    "    dead = total - survived\n",
    "    survival_rate = (survived / total) * 100\n",
    "    dead_rate = (dead / total) * 100\n",
    "    return survival_rate, dead_rate\n",
    "\n",
    "\n",
    "\n",
    "# 각 그룹의 생존률 및 사망률 계산\n",
    "with_family_rates = calculate_rates(with_family)\n",
    "sibsp_only_rates = calculate_rates(sibsp_only)\n",
    "parch_only_rates = calculate_rates(parch_only)\n",
    "neither_rates = calculate_rates(neither)\n",
    "\n",
    "with_family_rates"
   ]
  },
  {
   "cell_type": "code",
   "execution_count": 3780,
   "metadata": {},
   "outputs": [
    {
     "data": {
      "image/png": "[encoded data removed]",
      "text/plain": [
       "<Figure size 1200x600 with 1 Axes>"
      ]
     },
     "metadata": {},
     "output_type": "display_data"
    }
   ],
   "source": [
    "categories_family = ['Both', 'SibSp Only', 'Parch Only', 'Neither']\n",
    "survival_rates_family = [with_family_rates[0], sibsp_only_rates[0], parch_only_rates[0], neither_rates[0]]\n",
    "dead_rates_family = [with_family_rates[1], sibsp_only_rates[1], parch_only_rates[1], neither_rates[1]]\n",
    "\n",
    "x = np.arange(len(categories_family))  # x축 위치\n",
    "width = 0.4  # 막대 너비\n",
    "fig, ax = plt.subplots(figsize=(12, 6))\n",
    "\n",
    "# 생존률과 사망률 그래프\n",
    "ax.bar(x - width / 2, survival_rates_family, width, label='Survived', color='tab:blue')\n",
    "ax.bar(x + width / 2, dead_rates_family, width, label='Dead', color='tab:red')\n",
    "\n",
    "# 그래프 꾸미기\n",
    "ax.set_title('가족 동반 여부에 따른 생존률 및 사망률')\n",
    "ax.set_xticks(x)\n",
    "ax.set_xticklabels(categories_family)\n",
    "ax.set_ylabel('Rate (%)')\n",
    "ax.legend(title='State')\n",
    "\n",
    "plt.tight_layout()\n",
    "plt.show()"
   ]
  },
  {
   "cell_type": "markdown",
   "metadata": {},
   "source": [
    "* 새로운 컬럼 생성"
   ]
  },
  {
   "cell_type": "code",
   "execution_count": 3781,
   "metadata": {},
   "outputs": [
    {
     "data": {
      "text/plain": [
       "array([0, 1, 3, 2], dtype=int64)"
      ]
     },
     "execution_count": 3781,
     "metadata": {},
     "output_type": "execute_result"
    }
   ],
   "source": [
    "# 새로운 'Family' 컬럼 생성\n",
    "def assign_family_category(row):\n",
    "    if row['SibSp'] > 0 and row['Parch'] > 0:\n",
    "        return 3  # Both\n",
    "    elif row['SibSp'] > 0:\n",
    "        return 1  # SibSp Only\n",
    "    elif row['Parch'] > 0:\n",
    "        return 2  # Parch Only\n",
    "    else:\n",
    "        return 0  # Neither\n",
    "\n",
    "# 'Family' 컬럼을 train_df와 test_df에 추가\n",
    "train_df['Family'] = train_df.apply(assign_family_category, axis=1)\n",
    "test_df['Family'] = test_df.apply(assign_family_category, axis=1)\n",
    "\n",
    "train_df['Family'].unique()\n",
    "test_df['Family'].unique()\n"
   ]
  },
  {
   "cell_type": "markdown",
   "metadata": {},
   "source": [
    "**자녀와 가족 모두 데려오지 않은 경우**가 가장 생존률이 낮다   \n",
    "**자녀만 데려온 경우**가 가장 생존률이 높다"
   ]
  },
  {
   "cell_type": "markdown",
   "metadata": {},
   "source": [
    "* 객실 등급에 따른 생존률 - Pclass"
   ]
  },
  {
   "cell_type": "code",
   "execution_count": 3782,
   "metadata": {},
   "outputs": [
    {
     "data": {
      "text/plain": [
       "[62.96296296296296, 47.28260869565217, 24.236252545824847]"
      ]
     },
     "execution_count": 3782,
     "metadata": {},
     "output_type": "execute_result"
    }
   ],
   "source": [
    "def calculate_pclass_rates(df):\n",
    "    pclass_groups = df.groupby('Pclass')  # Pclass별 그룹화\n",
    "    survival_rates = []\n",
    "    dead_rates = []\n",
    "\n",
    "    for pclass, group in pclass_groups:\n",
    "        total = group.shape[0]\n",
    "        survived = group[group['Survived'] == 1].shape[0]\n",
    "        dead = total - survived\n",
    "        survival_rate = (survived / total) * 100\n",
    "        dead_rate = (dead / total) * 100\n",
    "        survival_rates.append(survival_rate)\n",
    "        dead_rates.append(dead_rate)\n",
    "\n",
    "    return survival_rates, dead_rates\n",
    "\n",
    "# Pclass별 생존률과 사망률 계산\n",
    "survival_rates_pclass, dead_rates_pclass = calculate_pclass_rates(train_df)\n",
    "pclass_categories = [str(pclass) for pclass in train_df['Pclass'].unique()]\n",
    "survival_rates_pclass"
   ]
  },
  {
   "cell_type": "code",
   "execution_count": 3783,
   "metadata": {},
   "outputs": [
    {
     "data": {
      "image/png": "[encoded data removed]",
      "text/plain": [
       "<Figure size 800x500 with 1 Axes>"
      ]
     },
     "metadata": {},
     "output_type": "display_data"
    }
   ],
   "source": [
    "fig, ax = plt.subplots(figsize=(8, 5))\n",
    "\n",
    "x = np.arange(len(pclass_categories))  # x축 위치\n",
    "width = 0.4  # 막대 너비\n",
    "\n",
    "# 생존률과 사망률 그래프\n",
    "ax.bar(x - width / 2, survival_rates_pclass, width, label='Survived', color='tab:blue')\n",
    "ax.bar(x + width / 2, dead_rates_pclass, width, label='Dead', color='tab:red')\n",
    "\n",
    "# 그래프 꾸미기\n",
    "ax.set_title('Pclass별 생존률과 사망률')\n",
    "ax.set_xlabel('Pclass')\n",
    "ax.set_ylabel('비율 (%)')\n",
    "ax.set_xticks(x)\n",
    "ax.set_xticklabels(pclass_categories)\n",
    "ax.legend(title='State')\n",
    "\n",
    "plt.tight_layout()\n",
    "plt.show()"
   ]
  },
  {
   "cell_type": "markdown",
   "metadata": {},
   "source": [
    "**객실 등급이 높아질수록 더 생존률이 높다**는 사실을 알 수 있다."
   ]
  },
  {
   "cell_type": "markdown",
   "metadata": {},
   "source": [
    "* 탑승 도시에 따른 생존률 - Embarked"
   ]
  },
  {
   "cell_type": "code",
   "execution_count": 3784,
   "metadata": {},
   "outputs": [],
   "source": [
    "# Embarked별 생존률과 사망률 계산 함수\n",
    "def calculate_embarked_rates(df):\n",
    "    embarked_groups = df.groupby('Embarked')  # Embarked별 그룹화\n",
    "    survival_rates = []\n",
    "    dead_rates = []\n",
    "    \n",
    "    # 'Embarked' 고유값을 순회하면서 생존률과 사망률 계산\n",
    "    for embarked, group in embarked_groups:\n",
    "        total = group.shape[0]\n",
    "        survived = group[group['Survived'] == 1].shape[0]\n",
    "        dead = total - survived\n",
    "        survival_rate = (survived / total) * 100\n",
    "        dead_rate = (dead / total) * 100\n",
    "        survival_rates.append(survival_rate)\n",
    "        dead_rates.append(dead_rate)\n",
    "    \n",
    "    return survival_rates, dead_rates\n",
    "\n",
    "# Embarked별 생존률과 사망률 계산\n",
    "survival_rates_embarked, dead_rates_embarked = calculate_embarked_rates(train_df)\n",
    "\n",
    "# Embarked의 고유 값들 (C, Q, S)\n",
    "embarked_categories = train_df['Embarked'].dropna().unique().tolist()  # NaN 제외\n",
    "\n"
   ]
  },
  {
   "cell_type": "code",
   "execution_count": 3785,
   "metadata": {},
   "outputs": [
    {
     "data": {
      "image/png": "[encoded data removed]",
      "text/plain": [
       "<Figure size 800x500 with 1 Axes>"
      ]
     },
     "metadata": {},
     "output_type": "display_data"
    }
   ],
   "source": [
    "fig, ax = plt.subplots(figsize=(8, 5))\n",
    "\n",
    "x = np.arange(len(embarked_categories))  # x축 위치\n",
    "width = 0.4  # 막대 너비\n",
    "\n",
    "# 생존률과 사망률 그래프\n",
    "ax.bar(x - width / 2, survival_rates_embarked, width, label='Survived', color='tab:blue')\n",
    "ax.bar(x + width / 2, dead_rates_embarked, width, label='Dead', color='tab:red')\n",
    "\n",
    "# 그래프 꾸미기\n",
    "ax.set_title('탑승 도시 별 생존률과 사망률')\n",
    "ax.set_xlabel('탑승 도시')\n",
    "ax.set_ylabel('비율 (%)')\n",
    "ax.set_xticks(x)\n",
    "ax.set_xticklabels(embarked_categories)\n",
    "ax.legend(title='State')\n",
    "\n",
    "plt.tight_layout()\n",
    "plt.show()"
   ]
  },
  {
   "cell_type": "markdown",
   "metadata": {},
   "source": [
    "S:사우햄스턴 C:셰르부르 Q: 퀸즈타운   \n",
    "**사우햄스턴에서 탄 승객의 생존률이 가장 높다.**   \n",
    "**퀸스타운에서 탄 승객의 생존률이 가장 낮다.**"
   ]
  },
  {
   "cell_type": "markdown",
   "metadata": {},
   "source": [
    "### 데이터 정제"
   ]
  },
  {
   "cell_type": "markdown",
   "metadata": {},
   "source": [
    "* Name의 Title 추출   \n",
    "타이틀 값으로 Ms,Mrs 와 같이 결혼여부 확인 가능. 호칭으로 성별 등 예측 가능하므로 예측과 무관한 이름 대신 타이틀 값 추출, 테스트 데이터에도 추가"
   ]
  },
  {
   "cell_type": "code",
   "execution_count": 3786,
   "metadata": {},
   "outputs": [
    {
     "data": {
      "text/plain": [
       "Title\n",
       "Mr          517\n",
       "Miss        182\n",
       "Mrs         125\n",
       "Master       40\n",
       "Dr            7\n",
       "Rev           6\n",
       "Mlle          2\n",
       "Major         2\n",
       "Col           2\n",
       "Countess      1\n",
       "Capt          1\n",
       "Ms            1\n",
       "Sir           1\n",
       "Lady          1\n",
       "Mme           1\n",
       "Don           1\n",
       "Jonkheer      1\n",
       "Name: count, dtype: int64"
      ]
     },
     "execution_count": 3786,
     "metadata": {},
     "output_type": "execute_result"
    }
   ],
   "source": [
    "train_df['Title'] = train_df['Name'].str.extract('([A-Za-z]+)\\.')\n",
    "test_df['Title'] = test_df['Name'].str.extract('([A-Za-z]+)\\.')\n",
    "train_df['Title'].value_counts()"
   ]
  },
  {
   "cell_type": "markdown",
   "metadata": {},
   "source": [
    "Dr,Master 및 다른 소수 title의 성별 값으로, Mr, Mrs로 치환하는 과정   \n",
    "밑은 사전적 의미로 알 수 있는 호칭별 성별\n",
    "Mile, Ms -> miss   \n",
    "Mme, Lady, Countess, Dona -> Mrs   \n",
    "Major,Cor,Sir,Don,Jockheer,Capt -> Mr   \n",
    "이와 같이 변경.   "
   ]
  },
  {
   "cell_type": "code",
   "execution_count": 3787,
   "metadata": {},
   "outputs": [],
   "source": [
    "train_df.loc[train_df['Title'].isin(['Mile', 'Ms']), 'Title'] = 'Miss'\n",
    "train_df.loc[train_df['Title'].isin(['Mme', 'Lady', 'Countess', 'Dona','Mlle']), 'Title'] = 'Mrs'\n",
    "train_df.loc[train_df['Title'].isin(['Major','Col','Sir','Don','Jonkheer','Capt','Rev']), 'Title'] = 'Mr'\n",
    "test_df.loc[test_df['Title'].isin(['Mile', 'Ms']), 'Title'] = 'Miss'\n",
    "test_df.loc[test_df['Title'].isin(['Mme', 'Lady', 'Countess', 'Dona','Mlle']), 'Title'] = 'Mrs'\n",
    "test_df.loc[test_df['Title'].isin(['Major','Col','Sir','Don','Jonkheer','Capt','Rev']), 'Title'] = 'Mr'\n"
   ]
  },
  {
   "cell_type": "markdown",
   "metadata": {},
   "source": [
    "* 성별에 관련 없어보이는 데이터 값 확인 - Dr, Master"
   ]
  },
  {
   "cell_type": "markdown",
   "metadata": {},
   "source": [
    "1. Dr"
   ]
  },
  {
   "cell_type": "code",
   "execution_count": 3788,
   "metadata": {},
   "outputs": [
    {
     "data": {
      "text/plain": [
       "245      male\n",
       "317      male\n",
       "398      male\n",
       "632      male\n",
       "660      male\n",
       "766      male\n",
       "796    female\n",
       "Name: Sex, dtype: object"
      ]
     },
     "execution_count": 3788,
     "metadata": {},
     "output_type": "execute_result"
    }
   ],
   "source": [
    "train_df[train_df['Title'] == 'Dr']['Sex']"
   ]
  },
  {
   "cell_type": "markdown",
   "metadata": {},
   "source": [
    "해당하는 값으로 Mr,Miss로 치환."
   ]
  },
  {
   "cell_type": "code",
   "execution_count": 3789,
   "metadata": {},
   "outputs": [],
   "source": [
    "train_df.loc[train_df['Title'] == 'Dr', 'Title'] = train_df.apply(lambda row: 'Mr' if row['Sex'] == 'male' else 'Miss', axis=1)\n",
    "test_df.loc[test_df['Title'] == 'Dr', 'Title'] = test_df.apply(lambda row: 'Mr' if row['Sex'] == 'male' else 'Miss', axis=1)"
   ]
  },
  {
   "cell_type": "markdown",
   "metadata": {},
   "source": [
    "2. Master"
   ]
  },
  {
   "cell_type": "code",
   "execution_count": 3790,
   "metadata": {},
   "outputs": [
    {
     "data": {
      "text/html": [
       "<div>\n",
       "<style scoped>\n",
       "    .dataframe tbody tr th:only-of-type {\n",
       "        vertical-align: middle;\n",
       "    }\n",
       "\n",
       "    .dataframe tbody tr th {\n",
       "        vertical-align: top;\n",
       "    }\n",
       "\n",
       "    .dataframe thead th {\n",
       "        text-align: right;\n",
       "    }\n",
       "</style>\n",
       "<table border=\"1\" class=\"dataframe\">\n",
       "  <thead>\n",
       "    <tr style=\"text-align: right;\">\n",
       "      <th></th>\n",
       "      <th>PassengerId</th>\n",
       "      <th>Survived</th>\n",
       "      <th>Pclass</th>\n",
       "      <th>Name</th>\n",
       "      <th>Sex</th>\n",
       "      <th>Age</th>\n",
       "      <th>SibSp</th>\n",
       "      <th>Parch</th>\n",
       "      <th>Ticket</th>\n",
       "      <th>Fare</th>\n",
       "      <th>Cabin</th>\n",
       "      <th>Embarked</th>\n",
       "      <th>Family</th>\n",
       "      <th>Title</th>\n",
       "    </tr>\n",
       "  </thead>\n",
       "  <tbody>\n",
       "  </tbody>\n",
       "</table>\n",
       "</div>"
      ],
      "text/plain": [
       "Empty DataFrame\n",
       "Columns: [PassengerId, Survived, Pclass, Name, Sex, Age, SibSp, Parch, Ticket, Fare, Cabin, Embarked, Family, Title]\n",
       "Index: []"
      ]
     },
     "execution_count": 3790,
     "metadata": {},
     "output_type": "execute_result"
    }
   ],
   "source": [
    "train_df[(train_df['Title'] == 'Master') & (train_df['Sex'] != 'male')]"
   ]
  },
  {
   "cell_type": "markdown",
   "metadata": {},
   "source": [
    "Master의 경우 남성을 지칭하는 호칭인것을 확인 가능, 모두 Mr로 변환"
   ]
  },
  {
   "cell_type": "code",
   "execution_count": 3791,
   "metadata": {},
   "outputs": [],
   "source": [
    "train_df.loc[train_df['Title'].isin(['Master']), 'Title'] = 'Mr'\n",
    "test_df.loc[test_df['Title'].isin(['Master']), 'Title'] = 'Mr'"
   ]
  },
  {
   "cell_type": "markdown",
   "metadata": {},
   "source": [
    "이제 필요 없어진 Name 컬럼을 drop한다."
   ]
  },
  {
   "cell_type": "code",
   "execution_count": 3792,
   "metadata": {},
   "outputs": [],
   "source": [
    "train_df.drop('Name', axis=1, inplace=True)\n",
    "test_df.drop('Name', axis=1, inplace=True)"
   ]
  },
  {
   "cell_type": "code",
   "execution_count": 3793,
   "metadata": {},
   "outputs": [
    {
     "name": "stdout",
     "output_type": "stream",
     "text": [
      "['Mr' 'Mrs' 'Miss']\n",
      "['Mr' 'Mrs' 'Miss']\n"
     ]
    }
   ],
   "source": [
    "print(train_df['Title'].unique())\n",
    "print(test_df['Title'].unique())"
   ]
  },
  {
   "cell_type": "markdown",
   "metadata": {},
   "source": [
    "* 데이터 범주화\n",
    "    1. Age\n",
    "    2. Fare\n"
   ]
  },
  {
   "cell_type": "markdown",
   "metadata": {},
   "source": [
    "1. Age    \n",
    "NaN값은 Title값 별로로 나눠 해당 Title 그룹의 중간값으로 채우고 난 뒤 Age의 범주화, 10 단위로 나눠 범주화"
   ]
  },
  {
   "cell_type": "code",
   "execution_count": 3794,
   "metadata": {},
   "outputs": [
    {
     "data": {
      "text/plain": [
       "Age\n",
       "4.0     214\n",
       "3.0     176\n",
       "5.0     127\n",
       "2.0      79\n",
       "0.0      64\n",
       "7.0      52\n",
       "6.0      45\n",
       "9.0      42\n",
       "1.0      36\n",
       "8.0      34\n",
       "10.0     22\n",
       "Name: count, dtype: int64"
      ]
     },
     "execution_count": 3794,
     "metadata": {},
     "output_type": "execute_result"
    }
   ],
   "source": [
    "total_median_train=train_df['Age'].median()\n",
    "total_median_test=test_df['Age'].median()\n",
    "# NaN을 title별로 groupby median으로 채우는 방법\n",
    "def fill_nan_with_group_median(df, title_column, target_column, default_value):\n",
    "    # 각 Title별 Age의 median을 계산\n",
    "    median_values = df.groupby(title_column)[target_column].median()\n",
    "    \n",
    "    # 그룹별 median을 NaN 값에 대체\n",
    "    df[target_column] = df.apply(\n",
    "        lambda row: median_values[row[title_column]] if pd.isna(row[target_column]) else row[target_column],\n",
    "        axis=1\n",
    "    )\n",
    "    \n",
    "    # 만약 해당 그룹의 median이 NaN일 경우 전체 median으로 채우기\n",
    "    df[target_column] = df[target_column].fillna(default_value)\n",
    "    return df\n",
    "\n",
    "# Age NaN 값 처리\n",
    "train_df = fill_nan_with_group_median(train_df, 'Title', 'Age', default_value=total_median_train)\n",
    "test_df = fill_nan_with_group_median(test_df, 'Title', 'Age', default_value=total_median_test)\n",
    "\n",
    "def categorize_age(df):\n",
    "    df.loc[df['Age'] <= 10, 'Age'] = 0\n",
    "    df.loc[(df['Age'] > 10) & (df['Age'] <= 16), 'Age'] = 1\n",
    "    df.loc[(df['Age'] > 16) & (df['Age'] <= 20), 'Age'] = 2\n",
    "    df.loc[(df['Age'] > 20) & (df['Age'] <= 26), 'Age'] = 3\n",
    "    df.loc[(df['Age'] > 26) & (df['Age'] <= 30), 'Age'] = 4\n",
    "    df.loc[(df['Age'] > 30) & (df['Age'] <= 36), 'Age'] = 5\n",
    "    df.loc[(df['Age'] > 36) & (df['Age'] <= 40), 'Age'] = 6\n",
    "    df.loc[(df['Age'] > 40) & (df['Age'] <= 46), 'Age'] = 7\n",
    "    df.loc[(df['Age'] > 46) & (df['Age'] <= 50), 'Age'] = 8\n",
    "    df.loc[(df['Age'] > 50) & (df['Age'] <= 60), 'Age'] = 9\n",
    "    df.loc[df['Age'] > 60, 'Age'] = 10\n",
    "\n",
    "# 범주화 적용\n",
    "categorize_age(train_df)\n",
    "categorize_age(test_df)\n",
    "\n",
    "train_df['Age'].value_counts()"
   ]
  },
  {
   "cell_type": "code",
   "execution_count": 3795,
   "metadata": {},
   "outputs": [
    {
     "data": {
      "text/plain": [
       "array([ 3.,  6.,  5.,  4.,  9.,  0.,  1.,  2., 10.,  7.,  8.])"
      ]
     },
     "execution_count": 3795,
     "metadata": {},
     "output_type": "execute_result"
    }
   ],
   "source": [
    "train_df['Age'].unique()"
   ]
  },
  {
   "cell_type": "markdown",
   "metadata": {},
   "source": [
    "2. Fare   \n",
    "Fare값을 10개의 구간으로 나눈다. 다만 어떻게 나누면 좋을지 보기 위해 그래프를 그려 알아본다."
   ]
  },
  {
   "cell_type": "code",
   "execution_count": 3796,
   "metadata": {},
   "outputs": [
    {
     "data": {
      "image/png": "[encoded data removed]",
      "text/plain": [
       "<Figure size 1000x600 with 1 Axes>"
      ]
     },
     "metadata": {},
     "output_type": "display_data"
    }
   ],
   "source": [
    "# 히스토그램으로 Fare 값 분포 확인\n",
    "plt.figure(figsize=(10, 6))\n",
    "sns.histplot(train_df['Fare'], bins=30, kde=True, color='blue')\n",
    "plt.title('Fare 분포')\n",
    "plt.xlabel('Fare')\n",
    "plt.ylabel('빈도수')\n",
    "plt.show()"
   ]
  },
  {
   "cell_type": "markdown",
   "metadata": {},
   "source": [
    "해당 히스토그램은 좌측으로 매우 편향된 형태이므로 로그값을 취해 조금 더 대칭적인 형태로 변환한다."
   ]
  },
  {
   "cell_type": "code",
   "execution_count": 3797,
   "metadata": {},
   "outputs": [
    {
     "data": {
      "image/png": "[encoded data removed]",
      "text/plain": [
       "<Figure size 1000x600 with 1 Axes>"
      ]
     },
     "metadata": {},
     "output_type": "display_data"
    }
   ],
   "source": [
    "# 로그 변환 (0보다 큰 값에만 적용)\n",
    "train_df['Log_Fare'] = np.log1p(train_df['Fare'])  # log1p: log(1 + x), 0을 안전하게 처리\n",
    "\n",
    "# 히스토그램 그리기\n",
    "plt.figure(figsize=(10, 6))\n",
    "plt.hist(train_df['Log_Fare'], bins=30, color='blue', edgecolor='black', alpha=0.7)\n",
    "\n",
    "plt.title('Log(Fare) 분포')\n",
    "plt.xlabel('Log(Fare)')\n",
    "plt.ylabel('빈도수')\n",
    "\n",
    "plt.show()"
   ]
  },
  {
   "cell_type": "code",
   "execution_count": 3798,
   "metadata": {},
   "outputs": [
    {
     "data": {
      "text/plain": [
       "2.737880811060884"
      ]
     },
     "execution_count": 3798,
     "metadata": {},
     "output_type": "execute_result"
    }
   ],
   "source": [
    "train_df['Log_Fare'].median()"
   ]
  },
  {
   "cell_type": "code",
   "execution_count": 3799,
   "metadata": {},
   "outputs": [
    {
     "name": "stdout",
     "output_type": "stream",
     "text": [
      "2.187217791453408\n",
      "3.4657359027997265\n"
     ]
    }
   ],
   "source": [
    "print(np.percentile(train_df['Log_Fare'],25))\n",
    "print(np.percentile(train_df['Log_Fare'],75))"
   ]
  },
  {
   "cell_type": "markdown",
   "metadata": {},
   "source": [
    "로그로 변환한 형태의 값의 중간값이 약 2.738, 제1사분위수가 약2.187, 제 3사분위수가 약 3.466 이므로 이를 기준으로 4구간으로 분할한다."
   ]
  },
  {
   "cell_type": "code",
   "execution_count": 3800,
   "metadata": {},
   "outputs": [
    {
     "data": {
      "text/plain": [
       "0      0.0\n",
       "1      3.0\n",
       "2      1.0\n",
       "3      3.0\n",
       "4      1.0\n",
       "      ... \n",
       "886    1.0\n",
       "887    1.0\n",
       "888    1.0\n",
       "889    1.0\n",
       "890    0.0\n",
       "Name: Fare, Length: 891, dtype: float64"
      ]
     },
     "execution_count": 3800,
     "metadata": {},
     "output_type": "execute_result"
    }
   ],
   "source": [
    "train_df.loc[train_df['Log_Fare']<=np.percentile(train_df['Log_Fare'],25), 'Fare']=0\n",
    "train_df.loc[(train_df['Log_Fare'] > np.percentile(train_df['Log_Fare'],25)) & (train_df['Log_Fare'] <= train_df['Log_Fare'].median()), 'Fare']=1\n",
    "train_df.loc[(train_df['Log_Fare'] > train_df['Log_Fare'].median()) & (train_df['Log_Fare'] <= np.percentile(train_df['Log_Fare'],75)), 'Fare']=1\n",
    "train_df.loc[train_df['Log_Fare']>np.percentile(train_df['Log_Fare'],75), 'Fare']=3\n",
    "\n",
    "train_df['Fare']"
   ]
  },
  {
   "cell_type": "markdown",
   "metadata": {},
   "source": [
    "##### 결측치 확인 및 기타 처리"
   ]
  },
  {
   "cell_type": "code",
   "execution_count": 3801,
   "metadata": {},
   "outputs": [
    {
     "data": {
      "text/plain": [
       "PassengerId      0\n",
       "Pclass           0\n",
       "Sex              0\n",
       "Age              0\n",
       "SibSp            0\n",
       "Parch            0\n",
       "Ticket           0\n",
       "Fare             1\n",
       "Cabin          327\n",
       "Embarked         0\n",
       "Family           0\n",
       "Title            0\n",
       "dtype: int64"
      ]
     },
     "execution_count": 3801,
     "metadata": {},
     "output_type": "execute_result"
    }
   ],
   "source": [
    "#train.csv의 null 값 여부 확인\n",
    "test_df.isnull().sum()"
   ]
  },
  {
   "cell_type": "markdown",
   "metadata": {},
   "source": [
    "테스트 세트에 있는 Fare값 결측치는 해당 Fare값의 중간값에 해당하는 값 할당, 그리고 위와 같은 방법으로 범주화"
   ]
  },
  {
   "cell_type": "code",
   "execution_count": 3802,
   "metadata": {},
   "outputs": [
    {
     "data": {
      "text/plain": [
       "0      0.0\n",
       "1      0.0\n",
       "2      1.0\n",
       "3      1.0\n",
       "4      1.0\n",
       "      ... \n",
       "413    1.0\n",
       "414    3.0\n",
       "415    0.0\n",
       "416    1.0\n",
       "417    2.0\n",
       "Name: Fare, Length: 418, dtype: float64"
      ]
     },
     "execution_count": 3802,
     "metadata": {},
     "output_type": "execute_result"
    }
   ],
   "source": [
    "test_df['Fare'] = test_df['Fare'].fillna(test_df['Fare'].median())\n",
    "test_df['Log_Fare'] = np.log1p(test_df['Fare'])  # log1p: log(1 + x), 0을 안전하게 처리\n",
    "\n",
    "test_df.loc[test_df['Log_Fare'] <= np.percentile(test_df['Log_Fare'], 25), 'Fare'] = 0\n",
    "test_df.loc[(test_df['Log_Fare'] > np.percentile(test_df['Log_Fare'], 25)) & (test_df['Log_Fare'] <= test_df['Log_Fare'].median()), 'Fare'] = 1\n",
    "test_df.loc[(test_df['Log_Fare'] > test_df['Log_Fare'].median()) & (test_df['Log_Fare'] <= np.percentile(test_df['Log_Fare'], 75)), 'Fare'] = 2\n",
    "test_df.loc[test_df['Log_Fare'] > np.percentile(test_df['Log_Fare'], 75), 'Fare'] = 3\n",
    "test_df['Fare']"
   ]
  },
  {
   "cell_type": "code",
   "execution_count": 3803,
   "metadata": {},
   "outputs": [
    {
     "data": {
      "text/plain": [
       "PassengerId      0\n",
       "Survived         0\n",
       "Pclass           0\n",
       "Sex              0\n",
       "Age              0\n",
       "SibSp            0\n",
       "Parch            0\n",
       "Ticket           0\n",
       "Fare             0\n",
       "Cabin          687\n",
       "Embarked         2\n",
       "Family           0\n",
       "Title            0\n",
       "Log_Fare         0\n",
       "dtype: int64"
      ]
     },
     "execution_count": 3803,
     "metadata": {},
     "output_type": "execute_result"
    }
   ],
   "source": [
    "#train.csv의 null 값 여부 확인\n",
    "train_df.isnull().sum()"
   ]
  },
  {
   "cell_type": "markdown",
   "metadata": {},
   "source": [
    "* Embarked NULL값 확인"
   ]
  },
  {
   "cell_type": "code",
   "execution_count": 3804,
   "metadata": {},
   "outputs": [
    {
     "data": {
      "text/html": [
       "<div>\n",
       "<style scoped>\n",
       "    .dataframe tbody tr th:only-of-type {\n",
       "        vertical-align: middle;\n",
       "    }\n",
       "\n",
       "    .dataframe tbody tr th {\n",
       "        vertical-align: top;\n",
       "    }\n",
       "\n",
       "    .dataframe thead th {\n",
       "        text-align: right;\n",
       "    }\n",
       "</style>\n",
       "<table border=\"1\" class=\"dataframe\">\n",
       "  <thead>\n",
       "    <tr style=\"text-align: right;\">\n",
       "      <th></th>\n",
       "      <th>PassengerId</th>\n",
       "      <th>Survived</th>\n",
       "      <th>Pclass</th>\n",
       "      <th>Sex</th>\n",
       "      <th>Age</th>\n",
       "      <th>SibSp</th>\n",
       "      <th>Parch</th>\n",
       "      <th>Ticket</th>\n",
       "      <th>Fare</th>\n",
       "      <th>Cabin</th>\n",
       "      <th>Embarked</th>\n",
       "      <th>Family</th>\n",
       "      <th>Title</th>\n",
       "      <th>Log_Fare</th>\n",
       "    </tr>\n",
       "  </thead>\n",
       "  <tbody>\n",
       "    <tr>\n",
       "      <th>61</th>\n",
       "      <td>62</td>\n",
       "      <td>1</td>\n",
       "      <td>1</td>\n",
       "      <td>female</td>\n",
       "      <td>6.0</td>\n",
       "      <td>0</td>\n",
       "      <td>0</td>\n",
       "      <td>113572</td>\n",
       "      <td>3.0</td>\n",
       "      <td>B28</td>\n",
       "      <td>NaN</td>\n",
       "      <td>0</td>\n",
       "      <td>Miss</td>\n",
       "      <td>4.394449</td>\n",
       "    </tr>\n",
       "    <tr>\n",
       "      <th>829</th>\n",
       "      <td>830</td>\n",
       "      <td>1</td>\n",
       "      <td>1</td>\n",
       "      <td>female</td>\n",
       "      <td>10.0</td>\n",
       "      <td>0</td>\n",
       "      <td>0</td>\n",
       "      <td>113572</td>\n",
       "      <td>3.0</td>\n",
       "      <td>B28</td>\n",
       "      <td>NaN</td>\n",
       "      <td>0</td>\n",
       "      <td>Mrs</td>\n",
       "      <td>4.394449</td>\n",
       "    </tr>\n",
       "  </tbody>\n",
       "</table>\n",
       "</div>"
      ],
      "text/plain": [
       "     PassengerId  Survived  Pclass     Sex   Age  SibSp  Parch  Ticket  Fare  \\\n",
       "61            62         1       1  female   6.0      0      0  113572   3.0   \n",
       "829          830         1       1  female  10.0      0      0  113572   3.0   \n",
       "\n",
       "    Cabin Embarked  Family Title  Log_Fare  \n",
       "61    B28      NaN       0  Miss  4.394449  \n",
       "829   B28      NaN       0   Mrs  4.394449  "
      ]
     },
     "execution_count": 3804,
     "metadata": {},
     "output_type": "execute_result"
    }
   ],
   "source": [
    "train_df[train_df.Embarked.isnull()]"
   ]
  },
  {
   "cell_type": "markdown",
   "metadata": {},
   "source": [
    "Embarked 결측치를 채우기 위해 공통점인 Cabin 이 B2-로 시작하는 데이터 검색"
   ]
  },
  {
   "cell_type": "code",
   "execution_count": 3805,
   "metadata": {},
   "outputs": [
    {
     "data": {
      "text/html": [
       "<div>\n",
       "<style scoped>\n",
       "    .dataframe tbody tr th:only-of-type {\n",
       "        vertical-align: middle;\n",
       "    }\n",
       "\n",
       "    .dataframe tbody tr th {\n",
       "        vertical-align: top;\n",
       "    }\n",
       "\n",
       "    .dataframe thead th {\n",
       "        text-align: right;\n",
       "    }\n",
       "</style>\n",
       "<table border=\"1\" class=\"dataframe\">\n",
       "  <thead>\n",
       "    <tr style=\"text-align: right;\">\n",
       "      <th></th>\n",
       "      <th>PassengerId</th>\n",
       "      <th>Survived</th>\n",
       "      <th>Pclass</th>\n",
       "      <th>Sex</th>\n",
       "      <th>Age</th>\n",
       "      <th>SibSp</th>\n",
       "      <th>Parch</th>\n",
       "      <th>Ticket</th>\n",
       "      <th>Fare</th>\n",
       "      <th>Cabin</th>\n",
       "      <th>Embarked</th>\n",
       "      <th>Family</th>\n",
       "      <th>Title</th>\n",
       "      <th>Log_Fare</th>\n",
       "    </tr>\n",
       "  </thead>\n",
       "  <tbody>\n",
       "    <tr>\n",
       "      <th>61</th>\n",
       "      <td>62</td>\n",
       "      <td>1</td>\n",
       "      <td>1</td>\n",
       "      <td>female</td>\n",
       "      <td>6.0</td>\n",
       "      <td>0</td>\n",
       "      <td>0</td>\n",
       "      <td>113572</td>\n",
       "      <td>3.0</td>\n",
       "      <td>B28</td>\n",
       "      <td>NaN</td>\n",
       "      <td>0</td>\n",
       "      <td>Miss</td>\n",
       "      <td>4.394449</td>\n",
       "    </tr>\n",
       "    <tr>\n",
       "      <th>540</th>\n",
       "      <td>541</td>\n",
       "      <td>1</td>\n",
       "      <td>1</td>\n",
       "      <td>female</td>\n",
       "      <td>5.0</td>\n",
       "      <td>0</td>\n",
       "      <td>2</td>\n",
       "      <td>WE/P 5735</td>\n",
       "      <td>3.0</td>\n",
       "      <td>B22</td>\n",
       "      <td>S</td>\n",
       "      <td>2</td>\n",
       "      <td>Miss</td>\n",
       "      <td>4.276666</td>\n",
       "    </tr>\n",
       "    <tr>\n",
       "      <th>690</th>\n",
       "      <td>691</td>\n",
       "      <td>1</td>\n",
       "      <td>1</td>\n",
       "      <td>male</td>\n",
       "      <td>5.0</td>\n",
       "      <td>1</td>\n",
       "      <td>0</td>\n",
       "      <td>17474</td>\n",
       "      <td>3.0</td>\n",
       "      <td>B20</td>\n",
       "      <td>S</td>\n",
       "      <td>1</td>\n",
       "      <td>Mr</td>\n",
       "      <td>4.060443</td>\n",
       "    </tr>\n",
       "    <tr>\n",
       "      <th>745</th>\n",
       "      <td>746</td>\n",
       "      <td>0</td>\n",
       "      <td>1</td>\n",
       "      <td>male</td>\n",
       "      <td>10.0</td>\n",
       "      <td>1</td>\n",
       "      <td>1</td>\n",
       "      <td>WE/P 5735</td>\n",
       "      <td>3.0</td>\n",
       "      <td>B22</td>\n",
       "      <td>S</td>\n",
       "      <td>3</td>\n",
       "      <td>Mr</td>\n",
       "      <td>4.276666</td>\n",
       "    </tr>\n",
       "    <tr>\n",
       "      <th>781</th>\n",
       "      <td>782</td>\n",
       "      <td>1</td>\n",
       "      <td>1</td>\n",
       "      <td>female</td>\n",
       "      <td>2.0</td>\n",
       "      <td>1</td>\n",
       "      <td>0</td>\n",
       "      <td>17474</td>\n",
       "      <td>3.0</td>\n",
       "      <td>B20</td>\n",
       "      <td>S</td>\n",
       "      <td>1</td>\n",
       "      <td>Mrs</td>\n",
       "      <td>4.060443</td>\n",
       "    </tr>\n",
       "    <tr>\n",
       "      <th>829</th>\n",
       "      <td>830</td>\n",
       "      <td>1</td>\n",
       "      <td>1</td>\n",
       "      <td>female</td>\n",
       "      <td>10.0</td>\n",
       "      <td>0</td>\n",
       "      <td>0</td>\n",
       "      <td>113572</td>\n",
       "      <td>3.0</td>\n",
       "      <td>B28</td>\n",
       "      <td>NaN</td>\n",
       "      <td>0</td>\n",
       "      <td>Mrs</td>\n",
       "      <td>4.394449</td>\n",
       "    </tr>\n",
       "  </tbody>\n",
       "</table>\n",
       "</div>"
      ],
      "text/plain": [
       "     PassengerId  Survived  Pclass     Sex   Age  SibSp  Parch     Ticket  \\\n",
       "61            62         1       1  female   6.0      0      0     113572   \n",
       "540          541         1       1  female   5.0      0      2  WE/P 5735   \n",
       "690          691         1       1    male   5.0      1      0      17474   \n",
       "745          746         0       1    male  10.0      1      1  WE/P 5735   \n",
       "781          782         1       1  female   2.0      1      0      17474   \n",
       "829          830         1       1  female  10.0      0      0     113572   \n",
       "\n",
       "     Fare Cabin Embarked  Family Title  Log_Fare  \n",
       "61    3.0   B28      NaN       0  Miss  4.394449  \n",
       "540   3.0   B22        S       2  Miss  4.276666  \n",
       "690   3.0   B20        S       1    Mr  4.060443  \n",
       "745   3.0   B22        S       3    Mr  4.276666  \n",
       "781   3.0   B20        S       1   Mrs  4.060443  \n",
       "829   3.0   B28      NaN       0   Mrs  4.394449  "
      ]
     },
     "execution_count": 3805,
     "metadata": {},
     "output_type": "execute_result"
    }
   ],
   "source": [
    "train_df[train_df['Cabin'].str.startswith('B2', na=False)]"
   ]
  },
  {
   "cell_type": "markdown",
   "metadata": {},
   "source": [
    "* 나머지가 Embarked가 S인것으로, 해당 Embarked 값을 S로 채워넣기"
   ]
  },
  {
   "cell_type": "code",
   "execution_count": 3806,
   "metadata": {},
   "outputs": [],
   "source": [
    "train_df['Embarked']=train_df['Embarked'].fillna('S')\n",
    "test_df['Embarked']=test_df['Embarked'].fillna('S')"
   ]
  },
  {
   "cell_type": "markdown",
   "metadata": {},
   "source": [
    "* null 값이 너무 많은 cabin 특성은 제외 "
   ]
  },
  {
   "cell_type": "code",
   "execution_count": 3807,
   "metadata": {},
   "outputs": [],
   "source": [
    "train_df.drop('Cabin',axis=1,inplace=True)\n",
    "test_df.drop('Cabin',axis=1,inplace=True)"
   ]
  },
  {
   "cell_type": "code",
   "execution_count": 3808,
   "metadata": {},
   "outputs": [
    {
     "data": {
      "text/html": [
       "<div>\n",
       "<style scoped>\n",
       "    .dataframe tbody tr th:only-of-type {\n",
       "        vertical-align: middle;\n",
       "    }\n",
       "\n",
       "    .dataframe tbody tr th {\n",
       "        vertical-align: top;\n",
       "    }\n",
       "\n",
       "    .dataframe thead th {\n",
       "        text-align: right;\n",
       "    }\n",
       "</style>\n",
       "<table border=\"1\" class=\"dataframe\">\n",
       "  <thead>\n",
       "    <tr style=\"text-align: right;\">\n",
       "      <th></th>\n",
       "      <th>PassengerId</th>\n",
       "      <th>Survived</th>\n",
       "      <th>Pclass</th>\n",
       "      <th>Sex</th>\n",
       "      <th>Age</th>\n",
       "      <th>SibSp</th>\n",
       "      <th>Parch</th>\n",
       "      <th>Ticket</th>\n",
       "      <th>Fare</th>\n",
       "      <th>Embarked</th>\n",
       "      <th>Family</th>\n",
       "      <th>Title</th>\n",
       "      <th>Log_Fare</th>\n",
       "    </tr>\n",
       "  </thead>\n",
       "  <tbody>\n",
       "    <tr>\n",
       "      <th>0</th>\n",
       "      <td>1</td>\n",
       "      <td>0</td>\n",
       "      <td>3</td>\n",
       "      <td>male</td>\n",
       "      <td>3.0</td>\n",
       "      <td>1</td>\n",
       "      <td>0</td>\n",
       "      <td>A/5 21171</td>\n",
       "      <td>0.0</td>\n",
       "      <td>S</td>\n",
       "      <td>1</td>\n",
       "      <td>Mr</td>\n",
       "      <td>2.110213</td>\n",
       "    </tr>\n",
       "    <tr>\n",
       "      <th>1</th>\n",
       "      <td>2</td>\n",
       "      <td>1</td>\n",
       "      <td>1</td>\n",
       "      <td>female</td>\n",
       "      <td>6.0</td>\n",
       "      <td>1</td>\n",
       "      <td>0</td>\n",
       "      <td>PC 17599</td>\n",
       "      <td>3.0</td>\n",
       "      <td>C</td>\n",
       "      <td>1</td>\n",
       "      <td>Mrs</td>\n",
       "      <td>4.280593</td>\n",
       "    </tr>\n",
       "    <tr>\n",
       "      <th>2</th>\n",
       "      <td>3</td>\n",
       "      <td>1</td>\n",
       "      <td>3</td>\n",
       "      <td>female</td>\n",
       "      <td>3.0</td>\n",
       "      <td>0</td>\n",
       "      <td>0</td>\n",
       "      <td>STON/O2. 3101282</td>\n",
       "      <td>1.0</td>\n",
       "      <td>S</td>\n",
       "      <td>0</td>\n",
       "      <td>Miss</td>\n",
       "      <td>2.188856</td>\n",
       "    </tr>\n",
       "    <tr>\n",
       "      <th>3</th>\n",
       "      <td>4</td>\n",
       "      <td>1</td>\n",
       "      <td>1</td>\n",
       "      <td>female</td>\n",
       "      <td>5.0</td>\n",
       "      <td>1</td>\n",
       "      <td>0</td>\n",
       "      <td>113803</td>\n",
       "      <td>3.0</td>\n",
       "      <td>S</td>\n",
       "      <td>1</td>\n",
       "      <td>Mrs</td>\n",
       "      <td>3.990834</td>\n",
       "    </tr>\n",
       "    <tr>\n",
       "      <th>4</th>\n",
       "      <td>5</td>\n",
       "      <td>0</td>\n",
       "      <td>3</td>\n",
       "      <td>male</td>\n",
       "      <td>5.0</td>\n",
       "      <td>0</td>\n",
       "      <td>0</td>\n",
       "      <td>373450</td>\n",
       "      <td>1.0</td>\n",
       "      <td>S</td>\n",
       "      <td>0</td>\n",
       "      <td>Mr</td>\n",
       "      <td>2.202765</td>\n",
       "    </tr>\n",
       "  </tbody>\n",
       "</table>\n",
       "</div>"
      ],
      "text/plain": [
       "   PassengerId  Survived  Pclass     Sex  Age  SibSp  Parch            Ticket  \\\n",
       "0            1         0       3    male  3.0      1      0         A/5 21171   \n",
       "1            2         1       1  female  6.0      1      0          PC 17599   \n",
       "2            3         1       3  female  3.0      0      0  STON/O2. 3101282   \n",
       "3            4         1       1  female  5.0      1      0            113803   \n",
       "4            5         0       3    male  5.0      0      0            373450   \n",
       "\n",
       "   Fare Embarked  Family Title  Log_Fare  \n",
       "0   0.0        S       1    Mr  2.110213  \n",
       "1   3.0        C       1   Mrs  4.280593  \n",
       "2   1.0        S       0  Miss  2.188856  \n",
       "3   3.0        S       1   Mrs  3.990834  \n",
       "4   1.0        S       0    Mr  2.202765  "
      ]
     },
     "execution_count": 3808,
     "metadata": {},
     "output_type": "execute_result"
    }
   ],
   "source": [
    "train_df.head(5)"
   ]
  },
  {
   "cell_type": "markdown",
   "metadata": {},
   "source": [
    "* 아직 문자열로 포함되는 값들 정리   "
   ]
  },
  {
   "cell_type": "markdown",
   "metadata": {},
   "source": [
    "1) Sex"
   ]
  },
  {
   "cell_type": "code",
   "execution_count": 3809,
   "metadata": {},
   "outputs": [],
   "source": [
    "train_df.loc[train_df['Sex']=='male','Sex']=0\n",
    "train_df.loc[train_df['Sex']=='female','Sex']=1\n",
    "test_df.loc[test_df['Sex']=='male','Sex']=0\n",
    "test_df.loc[test_df['Sex']=='female','Sex']=1"
   ]
  },
  {
   "cell_type": "markdown",
   "metadata": {},
   "source": [
    "2) Embarked"
   ]
  },
  {
   "cell_type": "code",
   "execution_count": 3810,
   "metadata": {},
   "outputs": [],
   "source": [
    "train_df.loc[train_df['Embarked']=='S','Embarked']=0\n",
    "train_df.loc[train_df['Embarked']=='Q','Embarked']=1\n",
    "train_df.loc[train_df['Embarked']=='C','Embarked']=2\n",
    "test_df.loc[test_df['Embarked']=='S','Embarked']=0\n",
    "test_df.loc[test_df['Embarked']=='Q','Embarked']=1\n",
    "test_df.loc[test_df['Embarked']=='C','Embarked']=2"
   ]
  },
  {
   "cell_type": "markdown",
   "metadata": {},
   "source": [
    "3. Title"
   ]
  },
  {
   "cell_type": "code",
   "execution_count": 3811,
   "metadata": {},
   "outputs": [
    {
     "data": {
      "text/html": [
       "<div>\n",
       "<style scoped>\n",
       "    .dataframe tbody tr th:only-of-type {\n",
       "        vertical-align: middle;\n",
       "    }\n",
       "\n",
       "    .dataframe tbody tr th {\n",
       "        vertical-align: top;\n",
       "    }\n",
       "\n",
       "    .dataframe thead th {\n",
       "        text-align: right;\n",
       "    }\n",
       "</style>\n",
       "<table border=\"1\" class=\"dataframe\">\n",
       "  <thead>\n",
       "    <tr style=\"text-align: right;\">\n",
       "      <th></th>\n",
       "      <th>PassengerId</th>\n",
       "      <th>Survived</th>\n",
       "      <th>Pclass</th>\n",
       "      <th>Sex</th>\n",
       "      <th>Age</th>\n",
       "      <th>SibSp</th>\n",
       "      <th>Parch</th>\n",
       "      <th>Ticket</th>\n",
       "      <th>Fare</th>\n",
       "      <th>Embarked</th>\n",
       "      <th>Family</th>\n",
       "      <th>Title</th>\n",
       "      <th>Log_Fare</th>\n",
       "    </tr>\n",
       "  </thead>\n",
       "  <tbody>\n",
       "    <tr>\n",
       "      <th>0</th>\n",
       "      <td>1</td>\n",
       "      <td>0</td>\n",
       "      <td>3</td>\n",
       "      <td>0</td>\n",
       "      <td>3.0</td>\n",
       "      <td>1</td>\n",
       "      <td>0</td>\n",
       "      <td>A/5 21171</td>\n",
       "      <td>0.0</td>\n",
       "      <td>0</td>\n",
       "      <td>1</td>\n",
       "      <td>0</td>\n",
       "      <td>2.110213</td>\n",
       "    </tr>\n",
       "    <tr>\n",
       "      <th>1</th>\n",
       "      <td>2</td>\n",
       "      <td>1</td>\n",
       "      <td>1</td>\n",
       "      <td>1</td>\n",
       "      <td>6.0</td>\n",
       "      <td>1</td>\n",
       "      <td>0</td>\n",
       "      <td>PC 17599</td>\n",
       "      <td>3.0</td>\n",
       "      <td>2</td>\n",
       "      <td>1</td>\n",
       "      <td>1</td>\n",
       "      <td>4.280593</td>\n",
       "    </tr>\n",
       "    <tr>\n",
       "      <th>2</th>\n",
       "      <td>3</td>\n",
       "      <td>1</td>\n",
       "      <td>3</td>\n",
       "      <td>1</td>\n",
       "      <td>3.0</td>\n",
       "      <td>0</td>\n",
       "      <td>0</td>\n",
       "      <td>STON/O2. 3101282</td>\n",
       "      <td>1.0</td>\n",
       "      <td>0</td>\n",
       "      <td>0</td>\n",
       "      <td>2</td>\n",
       "      <td>2.188856</td>\n",
       "    </tr>\n",
       "    <tr>\n",
       "      <th>3</th>\n",
       "      <td>4</td>\n",
       "      <td>1</td>\n",
       "      <td>1</td>\n",
       "      <td>1</td>\n",
       "      <td>5.0</td>\n",
       "      <td>1</td>\n",
       "      <td>0</td>\n",
       "      <td>113803</td>\n",
       "      <td>3.0</td>\n",
       "      <td>0</td>\n",
       "      <td>1</td>\n",
       "      <td>1</td>\n",
       "      <td>3.990834</td>\n",
       "    </tr>\n",
       "    <tr>\n",
       "      <th>4</th>\n",
       "      <td>5</td>\n",
       "      <td>0</td>\n",
       "      <td>3</td>\n",
       "      <td>0</td>\n",
       "      <td>5.0</td>\n",
       "      <td>0</td>\n",
       "      <td>0</td>\n",
       "      <td>373450</td>\n",
       "      <td>1.0</td>\n",
       "      <td>0</td>\n",
       "      <td>0</td>\n",
       "      <td>0</td>\n",
       "      <td>2.202765</td>\n",
       "    </tr>\n",
       "  </tbody>\n",
       "</table>\n",
       "</div>"
      ],
      "text/plain": [
       "   PassengerId  Survived  Pclass Sex  Age  SibSp  Parch            Ticket  \\\n",
       "0            1         0       3   0  3.0      1      0         A/5 21171   \n",
       "1            2         1       1   1  6.0      1      0          PC 17599   \n",
       "2            3         1       3   1  3.0      0      0  STON/O2. 3101282   \n",
       "3            4         1       1   1  5.0      1      0            113803   \n",
       "4            5         0       3   0  5.0      0      0            373450   \n",
       "\n",
       "   Fare Embarked  Family Title  Log_Fare  \n",
       "0   0.0        0       1     0  2.110213  \n",
       "1   3.0        2       1     1  4.280593  \n",
       "2   1.0        0       0     2  2.188856  \n",
       "3   3.0        0       1     1  3.990834  \n",
       "4   1.0        0       0     0  2.202765  "
      ]
     },
     "execution_count": 3811,
     "metadata": {},
     "output_type": "execute_result"
    }
   ],
   "source": [
    "train_df.loc[train_df['Title']=='Mr','Title']=0\n",
    "train_df.loc[train_df['Title']=='Mrs','Title']=1\n",
    "train_df.loc[train_df['Title']=='Miss','Title']=2\n",
    "test_df.loc[test_df['Title']=='Mr','Title']=0\n",
    "test_df.loc[test_df['Title']=='Mrs','Title']=1\n",
    "test_df.loc[test_df['Title']=='Miss','Title']=2\n",
    "\n",
    "train_df.head(5)"
   ]
  },
  {
   "cell_type": "markdown",
   "metadata": {},
   "source": [
    "* 학습에 필요 없는 Column 제거"
   ]
  },
  {
   "cell_type": "code",
   "execution_count": 3812,
   "metadata": {},
   "outputs": [
    {
     "name": "stdout",
     "output_type": "stream",
     "text": [
      "<class 'pandas.core.frame.DataFrame'>\n",
      "RangeIndex: 891 entries, 0 to 890\n",
      "Data columns (total 13 columns):\n",
      " #   Column       Non-Null Count  Dtype  \n",
      "---  ------       --------------  -----  \n",
      " 0   PassengerId  891 non-null    int64  \n",
      " 1   Survived     891 non-null    int64  \n",
      " 2   Pclass       891 non-null    int64  \n",
      " 3   Sex          891 non-null    object \n",
      " 4   Age          891 non-null    float64\n",
      " 5   SibSp        891 non-null    int64  \n",
      " 6   Parch        891 non-null    int64  \n",
      " 7   Ticket       891 non-null    object \n",
      " 8   Fare         891 non-null    float64\n",
      " 9   Embarked     891 non-null    object \n",
      " 10  Family       891 non-null    int64  \n",
      " 11  Title        891 non-null    object \n",
      " 12  Log_Fare     891 non-null    float64\n",
      "dtypes: float64(3), int64(6), object(4)\n",
      "memory usage: 90.6+ KB\n"
     ]
    }
   ],
   "source": [
    "train_df.info()"
   ]
  },
  {
   "cell_type": "code",
   "execution_count": 3813,
   "metadata": {},
   "outputs": [
    {
     "name": "stdout",
     "output_type": "stream",
     "text": [
      "<class 'pandas.core.frame.DataFrame'>\n",
      "RangeIndex: 891 entries, 0 to 890\n",
      "Data columns (total 10 columns):\n",
      " #   Column    Non-Null Count  Dtype  \n",
      "---  ------    --------------  -----  \n",
      " 0   Survived  891 non-null    int64  \n",
      " 1   Pclass    891 non-null    int64  \n",
      " 2   Sex       891 non-null    object \n",
      " 3   Age       891 non-null    float64\n",
      " 4   SibSp     891 non-null    int64  \n",
      " 5   Parch     891 non-null    int64  \n",
      " 6   Fare      891 non-null    float64\n",
      " 7   Embarked  891 non-null    object \n",
      " 8   Family    891 non-null    int64  \n",
      " 9   Title     891 non-null    object \n",
      "dtypes: float64(2), int64(5), object(3)\n",
      "memory usage: 69.7+ KB\n"
     ]
    }
   ],
   "source": [
    "train_df.drop('PassengerId',axis=1,inplace=True)\n",
    "train_df.drop('Log_Fare', axis=1, inplace=True)\n",
    "train_df.drop('Ticket', axis=1, inplace=True)\n",
    "test_df.drop('PassengerId',axis=1,inplace=True)\n",
    "test_df.drop('Log_Fare', axis=1, inplace=True)\n",
    "test_df.drop('Ticket', axis=1, inplace=True)\n",
    "train_df.info()"
   ]
  },
  {
   "cell_type": "code",
   "execution_count": 3814,
   "metadata": {},
   "outputs": [
    {
     "name": "stdout",
     "output_type": "stream",
     "text": [
      "<class 'pandas.core.frame.DataFrame'>\n",
      "RangeIndex: 418 entries, 0 to 417\n",
      "Data columns (total 9 columns):\n",
      " #   Column    Non-Null Count  Dtype  \n",
      "---  ------    --------------  -----  \n",
      " 0   Pclass    418 non-null    int64  \n",
      " 1   Sex       418 non-null    object \n",
      " 2   Age       418 non-null    float64\n",
      " 3   SibSp     418 non-null    int64  \n",
      " 4   Parch     418 non-null    int64  \n",
      " 5   Fare      418 non-null    float64\n",
      " 6   Embarked  418 non-null    object \n",
      " 7   Family    418 non-null    int64  \n",
      " 8   Title     418 non-null    object \n",
      "dtypes: float64(2), int64(4), object(3)\n",
      "memory usage: 29.5+ KB\n"
     ]
    }
   ],
   "source": [
    "test_df.info()"
   ]
  },
  {
   "cell_type": "markdown",
   "metadata": {},
   "source": [
    "* 데이터 타입 통일"
   ]
  },
  {
   "cell_type": "code",
   "execution_count": 3815,
   "metadata": {},
   "outputs": [
    {
     "data": {
      "text/plain": [
       "Survived      int64\n",
       "Pclass        int64\n",
       "Sex          object\n",
       "Age         float64\n",
       "SibSp         int64\n",
       "Parch         int64\n",
       "Fare        float64\n",
       "Embarked     object\n",
       "Family        int64\n",
       "Title        object\n",
       "dtype: object"
      ]
     },
     "execution_count": 3815,
     "metadata": {},
     "output_type": "execute_result"
    }
   ],
   "source": [
    "train_df.dtypes"
   ]
  },
  {
   "cell_type": "code",
   "execution_count": 3816,
   "metadata": {},
   "outputs": [],
   "source": [
    "train_df['Sex'] = train_df['Sex'].astype(int)\n",
    "train_df['Embarked'] = train_df['Embarked'].astype(int)\n",
    "train_df['Age'] = train_df['Age'].astype(int)\n",
    "train_df['Fare'] = train_df['Fare'].astype(int)\n",
    "train_df['Title'] = train_df['Title'].astype(int)"
   ]
  },
  {
   "cell_type": "code",
   "execution_count": 3817,
   "metadata": {},
   "outputs": [
    {
     "data": {
      "text/plain": [
       "Pclass        int64\n",
       "Sex          object\n",
       "Age         float64\n",
       "SibSp         int64\n",
       "Parch         int64\n",
       "Fare        float64\n",
       "Embarked     object\n",
       "Family        int64\n",
       "Title        object\n",
       "dtype: object"
      ]
     },
     "execution_count": 3817,
     "metadata": {},
     "output_type": "execute_result"
    }
   ],
   "source": [
    "test_df.dtypes"
   ]
  },
  {
   "cell_type": "code",
   "execution_count": 3818,
   "metadata": {},
   "outputs": [],
   "source": [
    "test_df['Sex'] = test_df['Sex'].astype(int)\n",
    "test_df['Embarked'] = test_df['Embarked'].astype(int)\n",
    "test_df['Age'] = test_df['Age'].astype(int)\n",
    "test_df['Fare'] = test_df['Fare'].astype(int)\n",
    "test_df['Title'] = test_df['Title'].astype(int)"
   ]
  },
  {
   "cell_type": "code",
   "execution_count": 3819,
   "metadata": {},
   "outputs": [
    {
     "data": {
      "text/html": [
       "<div>\n",
       "<style scoped>\n",
       "    .dataframe tbody tr th:only-of-type {\n",
       "        vertical-align: middle;\n",
       "    }\n",
       "\n",
       "    .dataframe tbody tr th {\n",
       "        vertical-align: top;\n",
       "    }\n",
       "\n",
       "    .dataframe thead th {\n",
       "        text-align: right;\n",
       "    }\n",
       "</style>\n",
       "<table border=\"1\" class=\"dataframe\">\n",
       "  <thead>\n",
       "    <tr style=\"text-align: right;\">\n",
       "      <th></th>\n",
       "      <th>Survived</th>\n",
       "      <th>Pclass</th>\n",
       "      <th>Sex</th>\n",
       "      <th>Age</th>\n",
       "      <th>SibSp</th>\n",
       "      <th>Parch</th>\n",
       "      <th>Fare</th>\n",
       "      <th>Embarked</th>\n",
       "      <th>Family</th>\n",
       "      <th>Title</th>\n",
       "    </tr>\n",
       "  </thead>\n",
       "  <tbody>\n",
       "    <tr>\n",
       "      <th>Survived</th>\n",
       "      <td>1.000000</td>\n",
       "      <td>-0.338481</td>\n",
       "      <td>0.543351</td>\n",
       "      <td>-0.054428</td>\n",
       "      <td>-0.035322</td>\n",
       "      <td>0.081629</td>\n",
       "      <td>0.273802</td>\n",
       "      <td>0.167675</td>\n",
       "      <td>0.158934</td>\n",
       "      <td>0.485500</td>\n",
       "    </tr>\n",
       "    <tr>\n",
       "      <th>Pclass</th>\n",
       "      <td>-0.338481</td>\n",
       "      <td>1.000000</td>\n",
       "      <td>-0.131900</td>\n",
       "      <td>-0.353690</td>\n",
       "      <td>0.083081</td>\n",
       "      <td>0.018443</td>\n",
       "      <td>-0.628187</td>\n",
       "      <td>-0.162098</td>\n",
       "      <td>-0.052069</td>\n",
       "      <td>-0.080549</td>\n",
       "    </tr>\n",
       "    <tr>\n",
       "      <th>Sex</th>\n",
       "      <td>0.543351</td>\n",
       "      <td>-0.131900</td>\n",
       "      <td>1.000000</td>\n",
       "      <td>-0.089403</td>\n",
       "      <td>0.114631</td>\n",
       "      <td>0.245489</td>\n",
       "      <td>0.218192</td>\n",
       "      <td>0.108262</td>\n",
       "      <td>0.270437</td>\n",
       "      <td>0.932936</td>\n",
       "    </tr>\n",
       "    <tr>\n",
       "      <th>Age</th>\n",
       "      <td>-0.054428</td>\n",
       "      <td>-0.353690</td>\n",
       "      <td>-0.089403</td>\n",
       "      <td>1.000000</td>\n",
       "      <td>-0.231439</td>\n",
       "      <td>-0.157648</td>\n",
       "      <td>0.116067</td>\n",
       "      <td>0.012057</td>\n",
       "      <td>-0.229287</td>\n",
       "      <td>-0.192721</td>\n",
       "    </tr>\n",
       "    <tr>\n",
       "      <th>SibSp</th>\n",
       "      <td>-0.035322</td>\n",
       "      <td>0.083081</td>\n",
       "      <td>0.114631</td>\n",
       "      <td>-0.231439</td>\n",
       "      <td>1.000000</td>\n",
       "      <td>0.414838</td>\n",
       "      <td>0.355810</td>\n",
       "      <td>-0.068230</td>\n",
       "      <td>0.635195</td>\n",
       "      <td>0.109770</td>\n",
       "    </tr>\n",
       "    <tr>\n",
       "      <th>Parch</th>\n",
       "      <td>0.081629</td>\n",
       "      <td>0.018443</td>\n",
       "      <td>0.245489</td>\n",
       "      <td>-0.157648</td>\n",
       "      <td>0.414838</td>\n",
       "      <td>1.000000</td>\n",
       "      <td>0.338665</td>\n",
       "      <td>-0.039798</td>\n",
       "      <td>0.784287</td>\n",
       "      <td>0.195503</td>\n",
       "    </tr>\n",
       "    <tr>\n",
       "      <th>Fare</th>\n",
       "      <td>0.273802</td>\n",
       "      <td>-0.628187</td>\n",
       "      <td>0.218192</td>\n",
       "      <td>0.116067</td>\n",
       "      <td>0.355810</td>\n",
       "      <td>0.338665</td>\n",
       "      <td>1.000000</td>\n",
       "      <td>0.102374</td>\n",
       "      <td>0.423207</td>\n",
       "      <td>0.163079</td>\n",
       "    </tr>\n",
       "    <tr>\n",
       "      <th>Embarked</th>\n",
       "      <td>0.167675</td>\n",
       "      <td>-0.162098</td>\n",
       "      <td>0.108262</td>\n",
       "      <td>0.012057</td>\n",
       "      <td>-0.068230</td>\n",
       "      <td>-0.039798</td>\n",
       "      <td>0.102374</td>\n",
       "      <td>1.000000</td>\n",
       "      <td>0.004218</td>\n",
       "      <td>0.105108</td>\n",
       "    </tr>\n",
       "    <tr>\n",
       "      <th>Family</th>\n",
       "      <td>0.158934</td>\n",
       "      <td>-0.052069</td>\n",
       "      <td>0.270437</td>\n",
       "      <td>-0.229287</td>\n",
       "      <td>0.635195</td>\n",
       "      <td>0.784287</td>\n",
       "      <td>0.423207</td>\n",
       "      <td>0.004218</td>\n",
       "      <td>1.000000</td>\n",
       "      <td>0.208691</td>\n",
       "    </tr>\n",
       "    <tr>\n",
       "      <th>Title</th>\n",
       "      <td>0.485500</td>\n",
       "      <td>-0.080549</td>\n",
       "      <td>0.932936</td>\n",
       "      <td>-0.192721</td>\n",
       "      <td>0.109770</td>\n",
       "      <td>0.195503</td>\n",
       "      <td>0.163079</td>\n",
       "      <td>0.105108</td>\n",
       "      <td>0.208691</td>\n",
       "      <td>1.000000</td>\n",
       "    </tr>\n",
       "  </tbody>\n",
       "</table>\n",
       "</div>"
      ],
      "text/plain": [
       "          Survived    Pclass       Sex       Age     SibSp     Parch  \\\n",
       "Survived  1.000000 -0.338481  0.543351 -0.054428 -0.035322  0.081629   \n",
       "Pclass   -0.338481  1.000000 -0.131900 -0.353690  0.083081  0.018443   \n",
       "Sex       0.543351 -0.131900  1.000000 -0.089403  0.114631  0.245489   \n",
       "Age      -0.054428 -0.353690 -0.089403  1.000000 -0.231439 -0.157648   \n",
       "SibSp    -0.035322  0.083081  0.114631 -0.231439  1.000000  0.414838   \n",
       "Parch     0.081629  0.018443  0.245489 -0.157648  0.414838  1.000000   \n",
       "Fare      0.273802 -0.628187  0.218192  0.116067  0.355810  0.338665   \n",
       "Embarked  0.167675 -0.162098  0.108262  0.012057 -0.068230 -0.039798   \n",
       "Family    0.158934 -0.052069  0.270437 -0.229287  0.635195  0.784287   \n",
       "Title     0.485500 -0.080549  0.932936 -0.192721  0.109770  0.195503   \n",
       "\n",
       "              Fare  Embarked    Family     Title  \n",
       "Survived  0.273802  0.167675  0.158934  0.485500  \n",
       "Pclass   -0.628187 -0.162098 -0.052069 -0.080549  \n",
       "Sex       0.218192  0.108262  0.270437  0.932936  \n",
       "Age       0.116067  0.012057 -0.229287 -0.192721  \n",
       "SibSp     0.355810 -0.068230  0.635195  0.109770  \n",
       "Parch     0.338665 -0.039798  0.784287  0.195503  \n",
       "Fare      1.000000  0.102374  0.423207  0.163079  \n",
       "Embarked  0.102374  1.000000  0.004218  0.105108  \n",
       "Family    0.423207  0.004218  1.000000  0.208691  \n",
       "Title     0.163079  0.105108  0.208691  1.000000  "
      ]
     },
     "execution_count": 3819,
     "metadata": {},
     "output_type": "execute_result"
    }
   ],
   "source": [
    "#상관계수 확인\n",
    "train_df.corr()"
   ]
  },
  {
   "cell_type": "markdown",
   "metadata": {},
   "source": [
    "### 모델 선택"
   ]
  },
  {
   "cell_type": "code",
   "execution_count": 3820,
   "metadata": {},
   "outputs": [
    {
     "name": "stdout",
     "output_type": "stream",
     "text": [
      "(891, 9) (891,)\n"
     ]
    }
   ],
   "source": [
    "train_input = train_df.drop('Survived', axis=1).values\n",
    "train_target = train_df['Survived'].values\n",
    "print(train_input.shape, train_target.shape)  \n",
    "\n",
    "# 머신러닝 라이브러리 import \n",
    "from sklearn.model_selection import KFold\n",
    "from sklearn.model_selection import cross_validate\n",
    "from sklearn.model_selection import cross_val_score\n",
    "from sklearn.model_selection import StratifiedKFold\n",
    "from sklearn.neighbors import KNeighborsClassifier\n",
    "from sklearn.tree import DecisionTreeClassifier\n",
    "from sklearn.ensemble import RandomForestClassifier\n",
    "from sklearn.linear_model import LogisticRegression\n",
    "from sklearn.svm import SVC\n",
    "from sklearn.metrics import mean_squared_error, r2_score\n",
    "from sklearn.metrics import accuracy_score\n",
    "from sklearn.linear_model import LinearRegression\n",
    "from sklearn.metrics import accuracy_score, confusion_matrix, classification_report"
   ]
  },
  {
   "cell_type": "markdown",
   "metadata": {},
   "source": [
    "* KNN"
   ]
  },
  {
   "cell_type": "code",
   "execution_count": 3821,
   "metadata": {},
   "outputs": [
    {
     "name": "stdout",
     "output_type": "stream",
     "text": [
      "훈련 정확도: 0.8479265486865122\n",
      "테스트 정확도: 0.7912748728893353\n",
      "정확도: 0.8035914702581369\n",
      "교차 검증 정확도: 0.7912748728893353\n",
      "혼동 행렬: \n",
      "[[494  55]\n",
      " [ 85 257]]\n",
      "분류 보고서: \n",
      "              precision    recall  f1-score   support\n",
      "\n",
      "           0       0.85      0.90      0.88       549\n",
      "           1       0.82      0.75      0.79       342\n",
      "\n",
      "    accuracy                           0.84       891\n",
      "   macro avg       0.84      0.83      0.83       891\n",
      "weighted avg       0.84      0.84      0.84       891\n",
      "\n"
     ]
    }
   ],
   "source": [
    "model = KNeighborsClassifier()\n",
    "model.fit(train_input, train_target)\n",
    "predicted = model.predict(train_input)\n",
    "\n",
    "mse = mean_squared_error(train_target, predicted)\n",
    "r2 = r2_score(train_target, predicted)\n",
    "\n",
    "score = cross_validate(model, train_input, train_target, \n",
    "                       return_train_score=True, n_jobs=-1, \n",
    "                       cv=StratifiedKFold()) \n",
    "\n",
    "print(f\"훈련 정확도: {np.mean(score['train_score'])}\")\n",
    "print(f\"테스트 정확도: {np.mean(score['test_score'])}\")\n",
    "print(f\"정확도: {accuracy}\")\n",
    "print(f\"교차 검증 정확도: {np.mean(cross_val_score(model, train_input, train_target, cv=5))}\")\n",
    "print(f\"혼동 행렬: \\n{confusion_matrix(train_target, predicted)}\")\n",
    "print(f\"분류 보고서: \\n{classification_report(train_target, predicted)}\")\n"
   ]
  },
  {
   "cell_type": "markdown",
   "metadata": {},
   "source": [
    "훈련 데이터와 테스트 데이터의 정확도의 차이가 크다. 과대 적합이 의심된다."
   ]
  },
  {
   "cell_type": "markdown",
   "metadata": {},
   "source": [
    "* 결정트리"
   ]
  },
  {
   "cell_type": "code",
   "execution_count": 3822,
   "metadata": {},
   "outputs": [
    {
     "name": "stdout",
     "output_type": "stream",
     "text": [
      "훈련 정확도: 0.9096525993980176\n",
      "테스트 정확도: 0.7946644906157806\n",
      "정확도: 0.9023569023569024\n",
      "교차 검증 정확도: 0.795775531981671\n",
      "혼동 행렬: \n",
      "[[539  10]\n",
      " [ 77 265]]\n",
      "분류 보고서: \n",
      "              precision    recall  f1-score   support\n",
      "\n",
      "           0       0.88      0.98      0.93       549\n",
      "           1       0.96      0.77      0.86       342\n",
      "\n",
      "    accuracy                           0.90       891\n",
      "   macro avg       0.92      0.88      0.89       891\n",
      "weighted avg       0.91      0.90      0.90       891\n",
      "\n"
     ]
    }
   ],
   "source": [
    "model = DecisionTreeClassifier()\n",
    "model.fit(train_input, train_target)\n",
    "predicted = model.predict(train_input)\n",
    "\n",
    "mse = mean_squared_error(train_target, predicted)\n",
    "r2 = r2_score(train_target, predicted)\n",
    "\n",
    "score = cross_validate(model, train_input, train_target, \n",
    "                       return_train_score=True, n_jobs=-1, \n",
    "                       cv=StratifiedKFold()) \n",
    "accuracy = accuracy_score(train_target, predicted)\n",
    "\n",
    "print(f\"훈련 정확도: {np.mean(score['train_score'])}\")\n",
    "print(f\"테스트 정확도: {np.mean(score['test_score'])}\")\n",
    "print(f\"정확도: {accuracy}\")\n",
    "print(f\"교차 검증 정확도: {np.mean(cross_val_score(model, train_input, train_target, cv=5))}\")\n",
    "print(f\"혼동 행렬: \\n{confusion_matrix(train_target, predicted)}\")\n",
    "print(f\"분류 보고서: \\n{classification_report(train_target, predicted)}\")"
   ]
  },
  {
   "cell_type": "markdown",
   "metadata": {},
   "source": [
    "훈련 데이터와 테스트 데이터의 정확도의 차이가 매우 크다. 과대 적합이 의심된다."
   ]
  },
  {
   "cell_type": "markdown",
   "metadata": {},
   "source": [
    "* 랜덤 포레스트"
   ]
  },
  {
   "cell_type": "code",
   "execution_count": 3823,
   "metadata": {},
   "outputs": [
    {
     "name": "stdout",
     "output_type": "stream",
     "text": [
      "훈련 정확도: 0.9096525993980176\n",
      "테스트 정확도: 0.804758018956751\n",
      "정확도: 0.9023569023569024\n",
      "교차 검증 정확도: 0.8069926558282594\n",
      "혼동 행렬: \n",
      "[[522  27]\n",
      " [ 60 282]]\n",
      "분류 보고서: \n",
      "              precision    recall  f1-score   support\n",
      "\n",
      "           0       0.90      0.95      0.92       549\n",
      "           1       0.91      0.82      0.87       342\n",
      "\n",
      "    accuracy                           0.90       891\n",
      "   macro avg       0.90      0.89      0.89       891\n",
      "weighted avg       0.90      0.90      0.90       891\n",
      "\n"
     ]
    }
   ],
   "source": [
    "model = RandomForestClassifier()\n",
    "model.fit(train_input, train_target)\n",
    "predicted = model.predict(train_input)\n",
    "\n",
    "mse = mean_squared_error(train_target, predicted)\n",
    "r2 = r2_score(train_target, predicted)\n",
    "\n",
    "score = cross_validate(model, train_input, train_target, \n",
    "                       return_train_score=True, n_jobs=-1, \n",
    "                       cv=StratifiedKFold()) \n",
    "accuracy = accuracy_score(train_target, predicted)\n",
    "print(f\"훈련 정확도: {np.mean(score['train_score'])}\")\n",
    "print(f\"테스트 정확도: {np.mean(score['test_score'])}\")\n",
    "print(f\"정확도: {accuracy}\")\n",
    "print(f\"교차 검증 정확도: {np.mean(cross_val_score(model, train_input, train_target, cv=5))}\")\n",
    "print(f\"혼동 행렬: \\n{confusion_matrix(train_target, predicted)}\")\n",
    "print(f\"분류 보고서: \\n{classification_report(train_target, predicted)}\")"
   ]
  },
  {
   "cell_type": "markdown",
   "metadata": {},
   "source": [
    "훈련 데이터와 테스트 데이터의 정확도의 차이가 매우 크다. 과대 적합이 의심된다."
   ]
  },
  {
   "cell_type": "markdown",
   "metadata": {},
   "source": [
    "* 서포트 벡터 머신"
   ]
  },
  {
   "cell_type": "code",
   "execution_count": 3824,
   "metadata": {},
   "outputs": [
    {
     "name": "stdout",
     "output_type": "stream",
     "text": [
      "훈련 정확도: 0.8280016389050854\n",
      "테스트 정확도: 0.8237963718536188\n",
      "정확도: 0.8282828282828283\n",
      "교차 검증 정확도: 0.8237963718536188\n",
      "혼동 행렬: \n",
      "[[489  60]\n",
      " [ 93 249]]\n",
      "분류 보고서: \n",
      "              precision    recall  f1-score   support\n",
      "\n",
      "           0       0.84      0.89      0.86       549\n",
      "           1       0.81      0.73      0.76       342\n",
      "\n",
      "    accuracy                           0.83       891\n",
      "   macro avg       0.82      0.81      0.81       891\n",
      "weighted avg       0.83      0.83      0.83       891\n",
      "\n"
     ]
    }
   ],
   "source": [
    "model = SVC()\n",
    "model.fit(train_input, train_target)\n",
    "\n",
    "predicted = model.predict(train_input)\n",
    "\n",
    "mse = mean_squared_error(train_target, predicted)\n",
    "r2 = r2_score(train_target, predicted)\n",
    "\n",
    "score = cross_validate(model, train_input, train_target, \n",
    "                       return_train_score=True, n_jobs=-1, \n",
    "                       cv=StratifiedKFold()) \n",
    "accuracy = accuracy_score(train_target, predicted)\n",
    "print(f\"훈련 정확도: {np.mean(score['train_score'])}\")\n",
    "print(f\"테스트 정확도: {np.mean(score['test_score'])}\")\n",
    "print(f\"정확도: {accuracy}\")\n",
    "print(f\"교차 검증 정확도: {np.mean(cross_val_score(model, train_input, train_target, cv=5))}\")\n",
    "print(f\"혼동 행렬: \\n{confusion_matrix(train_target, predicted)}\")\n",
    "print(f\"분류 보고서: \\n{classification_report(train_target, predicted)}\")"
   ]
  },
  {
   "cell_type": "markdown",
   "metadata": {},
   "source": [
    "훈련 데이터와 테스트 데이터의 정확도의 차이가 거의 없다. 과대적합이 없는 안정적인 모델이다."
   ]
  },
  {
   "cell_type": "markdown",
   "metadata": {},
   "source": [
    "* 로지스틱 회귀"
   ]
  },
  {
   "cell_type": "code",
   "execution_count": 3825,
   "metadata": {},
   "outputs": [
    {
     "name": "stdout",
     "output_type": "stream",
     "text": [
      "훈련 정확도: 0.8047126400554706\n",
      "테스트 정확도: 0.7979787835038603\n",
      "정확도: 0.8035914702581369\n",
      "교차 검증 정확도: 0.8013621241604418\n",
      "혼동 행렬: \n",
      "[[476  73]\n",
      " [102 240]]\n",
      "분류 보고서: \n",
      "              precision    recall  f1-score   support\n",
      "\n",
      "           0       0.82      0.87      0.84       549\n",
      "           1       0.77      0.70      0.73       342\n",
      "\n",
      "    accuracy                           0.80       891\n",
      "   macro avg       0.80      0.78      0.79       891\n",
      "weighted avg       0.80      0.80      0.80       891\n",
      "\n"
     ]
    }
   ],
   "source": [
    "model=LogisticRegression()\n",
    "model.fit(train_input, train_target)\n",
    "\n",
    "predicted = model.predict(train_input)\n",
    "\n",
    "mse = mean_squared_error(train_target, predicted)\n",
    "r2 = r2_score(train_target, predicted)\n",
    "\n",
    "score = cross_validate(model, train_input, train_target, \n",
    "                       return_train_score=True, n_jobs=-1, \n",
    "                       cv=KFold()) \n",
    "accuracy = accuracy_score(train_target, predicted)\n",
    "\n",
    "print(f\"훈련 정확도: {np.mean(score['train_score'])}\")\n",
    "print(f\"테스트 정확도: {np.mean(score['test_score'])}\")\n",
    "print(f\"정확도: {accuracy}\")\n",
    "print(f\"교차 검증 정확도: {np.mean(cross_val_score(model, train_input, train_target, cv=5))}\")\n",
    "print(f\"혼동 행렬: \\n{confusion_matrix(train_target, predicted)}\")\n",
    "print(f\"분류 보고서: \\n{classification_report(train_target, predicted)}\")"
   ]
  },
  {
   "cell_type": "markdown",
   "metadata": {},
   "source": [
    "훈련 데이터와 테스트 데이터의 정확도 차이가 거의 없다. 과대적합이 없는 안정적인 모델이다."
   ]
  },
  {
   "cell_type": "markdown",
   "metadata": {},
   "source": [
    "* 선형회귀"
   ]
  },
  {
   "cell_type": "code",
   "execution_count": 3826,
   "metadata": {},
   "outputs": [
    {
     "name": "stdout",
     "output_type": "stream",
     "text": [
      "Train Score (Mean): 0.40875331889116523\n",
      "Test Score (Mean): 0.3762077242825999\n",
      "Mean Squared Error (MSE): 0.1404247002684873\n",
      "R2 Score: 0.40625431952914404\n"
     ]
    },
    {
     "data": {
      "text/plain": [
       "array([0.3133304 , 0.37353569, 0.39471768, 0.33056622, 0.46888863])"
      ]
     },
     "execution_count": 3826,
     "metadata": {},
     "output_type": "execute_result"
    }
   ],
   "source": [
    "model = LinearRegression()\n",
    "\n",
    "model.fit(train_input, train_target)\n",
    "\n",
    "predicted = model.predict(train_input)\n",
    "\n",
    "mse = mean_squared_error(train_target, predicted)\n",
    "r2 = r2_score(train_target, predicted)\n",
    "\n",
    "score = cross_validate(model, train_input, train_target, \n",
    "                       return_train_score=True, n_jobs=-1, \n",
    "                       cv=KFold())  \n",
    "\n",
    "\n",
    "print(f\"Train Score (Mean): {np.mean(score['train_score'])}\")\n",
    "print(f\"Test Score (Mean): {np.mean(score['test_score'])}\")\n",
    "print(f\"Mean Squared Error (MSE): {mse}\")\n",
    "print(f\"R2 Score: {r2}\")\n",
    "cross_val_score(model, train_input, train_target, cv=5)"
   ]
  },
  {
   "cell_type": "markdown",
   "metadata": {},
   "source": [
    "이 모델은 정확도, 훈련점수, 테스트점수가 너무 낮다. 과소적합일 가능성이 크다. 제대로 학습하지 못했다."
   ]
  },
  {
   "cell_type": "markdown",
   "metadata": {},
   "source": [
    "* 정리 \n",
    "    * 5가지 모델 중 가장 적절한 모델은 로지스틱 회귀와 SVM이다\n",
    "    * 테스트 모델로 SVM과 로지스틱 회귀를 선택한다."
   ]
  },
  {
   "cell_type": "markdown",
   "metadata": {},
   "source": [
    "### 모델 학습 및 추론"
   ]
  },
  {
   "cell_type": "markdown",
   "metadata": {},
   "source": [
    "1. SVM"
   ]
  },
  {
   "cell_type": "code",
   "execution_count": 3827,
   "metadata": {},
   "outputs": [
    {
     "name": "stderr",
     "output_type": "stream",
     "text": [
      "c:\\Users\\JYH\\anaconda3\\envs\\Titanic\\lib\\site-packages\\sklearn\\base.py:486: UserWarning: X has feature names, but LinearRegression was fitted without feature names\n",
      "  warnings.warn(\n"
     ]
    },
    {
     "data": {
      "image/png": "[encoded data removed]",
      "text/plain": [
       "<Figure size 600x400 with 2 Axes>"
      ]
     },
     "metadata": {},
     "output_type": "display_data"
    },
    {
     "data": {
      "image/png": "[encoded data removed]",
      "text/plain": [
       "<Figure size 1000x600 with 2 Axes>"
      ]
     },
     "metadata": {},
     "output_type": "display_data"
    },
    {
     "data": {
      "image/png": "[encoded data removed]",
      "text/plain": [
       "<Figure size 600x400 with 1 Axes>"
      ]
     },
     "metadata": {},
     "output_type": "display_data"
    },
    {
     "name": "stdout",
     "output_type": "stream",
     "text": [
      "훈련 정확도: 0.8282828282828283\n"
     ]
    }
   ],
   "source": [
    "y = train_df['Survived']\n",
    "\n",
    "features = ['Pclass', 'Sex', 'Age', 'SibSp', 'Parch', 'Fare', 'Embarked', 'Family','Title']\n",
    "X = pd.get_dummies(train_df[features])\n",
    "X_test = pd.get_dummies(test_df[features])\n",
    "\n",
    "model_SVC = SVC()\n",
    "model_SVC.fit(X, y)\n",
    "predictions_SVC = model.predict(X_test)\n",
    "\n",
    "\n",
    "\n",
    "def plot_confusion_matrix(y_true, y_pred):\n",
    "    cm = confusion_matrix(y_true, y_pred)\n",
    "    plt.figure(figsize=(6, 4))\n",
    "    sns.heatmap(cm, annot=True, fmt=\"d\", cmap=\"Blues\", xticklabels=['Predicted 0', 'Predicted 1'], yticklabels=['Actual 0', 'Actual 1'])\n",
    "    plt.title(\"Confusion Matrix\")\n",
    "    plt.ylabel('Actual')\n",
    "    plt.xlabel('Predicted')\n",
    "    plt.show()\n",
    "\n",
    "# 훈련 데이터에 대한 예측\n",
    "train_predictions_SVC = model_SVC.predict(X)\n",
    "\n",
    "# 혼동 행렬 시각화\n",
    "plot_confusion_matrix(y, train_predictions_SVC)\n",
    "\n",
    "# 분류 보고서 출력 및 시각화\n",
    "report = classification_report(y, train_predictions_SVC, output_dict=True)\n",
    "df_report = pd.DataFrame(report).transpose()\n",
    "plt.figure(figsize=(10, 6))\n",
    "sns.heatmap(df_report.iloc[:-1, :-1], annot=True, cmap=\"YlGnBu\", fmt=\".2f\")\n",
    "plt.title(\"Classification Report Heatmap\")\n",
    "plt.show()\n",
    "\n",
    "# 교차 검증 결과 시각화\n",
    "cross_val_scores = cross_val_score(model_SVC, X, y, cv=5)\n",
    "plt.figure(figsize=(6, 4))\n",
    "plt.plot(range(1, 6), cross_val_scores, marker='o', linestyle='-', color='b', label='Cross-Validation Accuracy')\n",
    "plt.title('Cross-Validation Accuracy per Fold')\n",
    "plt.xlabel('Fold')\n",
    "plt.ylabel('Accuracy')\n",
    "plt.legend()\n",
    "plt.grid(True)\n",
    "plt.show()\n",
    "\n",
    "# 훈련 정확도 출력\n",
    "train_accuracy = accuracy_score(y, train_predictions_SVC)\n",
    "print(f\"훈련 정확도: {train_accuracy}\")\n",
    "\n",
    "output = pd.DataFrame({'PassengerId': test.PassengerId, 'Survived': predictions})\n",
    "output.to_csv('/dataset/submission_SCV.csv', index=False)\n"
   ]
  },
  {
   "cell_type": "markdown",
   "metadata": {},
   "source": [
    "2. 로지스틱 회귀"
   ]
  },
  {
   "cell_type": "code",
   "execution_count": 3828,
   "metadata": {},
   "outputs": [
    {
     "name": "stderr",
     "output_type": "stream",
     "text": [
      "c:\\Users\\JYH\\anaconda3\\envs\\Titanic\\lib\\site-packages\\sklearn\\base.py:486: UserWarning: X has feature names, but LinearRegression was fitted without feature names\n",
      "  warnings.warn(\n"
     ]
    },
    {
     "data": {
      "image/png": "[encoded data removed]",
      "text/plain": [
       "<Figure size 600x400 with 2 Axes>"
      ]
     },
     "metadata": {},
     "output_type": "display_data"
    },
    {
     "data": {
      "image/png": "[encoded data removed]",
      "text/plain": [
       "<Figure size 1000x600 with 2 Axes>"
      ]
     },
     "metadata": {},
     "output_type": "display_data"
    },
    {
     "data": {
      "image/png": "[encoded data removed]",
      "text/plain": [
       "<Figure size 600x400 with 1 Axes>"
      ]
     },
     "metadata": {},
     "output_type": "display_data"
    },
    {
     "name": "stdout",
     "output_type": "stream",
     "text": [
      "훈련 정확도: 0.8035914702581369\n"
     ]
    }
   ],
   "source": [
    "model_LR = LogisticRegression()\n",
    "model_LR.fit(X, y)\n",
    "predictions_LR = model.predict(X_test)\n",
    "\n",
    "\n",
    "def plot_confusion_matrix(y_true, y_pred):\n",
    "    cm = confusion_matrix(y_true, y_pred)\n",
    "    plt.figure(figsize=(6, 4))\n",
    "    sns.heatmap(cm, annot=True, fmt=\"d\", cmap=\"Blues\", xticklabels=['Predicted 0', 'Predicted 1'], yticklabels=['Actual 0', 'Actual 1'])\n",
    "    plt.title(\"Confusion Matrix\")\n",
    "    plt.ylabel('Actual')\n",
    "    plt.xlabel('Predicted')\n",
    "    plt.show()\n",
    "\n",
    "# 훈련 데이터에 대한 예측\n",
    "train_predictions_LR = model_LR.predict(X)\n",
    "\n",
    "# 혼동 행렬 시각화\n",
    "plot_confusion_matrix(y, train_predictions_LR)\n",
    "\n",
    "# 분류 보고서 출력 및 시각화\n",
    "report = classification_report(y, train_predictions_LR, output_dict=True)\n",
    "df_report = pd.DataFrame(report).transpose()\n",
    "plt.figure(figsize=(10, 6))\n",
    "sns.heatmap(df_report.iloc[:-1, :-1], annot=True, cmap=\"YlGnBu\", fmt=\".2f\")\n",
    "plt.title(\"Classification Report Heatmap\")\n",
    "plt.show()\n",
    "\n",
    "# 교차 검증 결과 시각화\n",
    "cross_val_scores = cross_val_score(model_LR, X, y, cv=5)\n",
    "plt.figure(figsize=(6, 4))\n",
    "plt.plot(range(1, 6), cross_val_scores, marker='o', linestyle='-', color='b', label='Cross-Validation Accuracy')\n",
    "plt.title('Cross-Validation Accuracy per Fold')\n",
    "plt.xlabel('Fold')\n",
    "plt.ylabel('Accuracy')\n",
    "plt.legend()\n",
    "plt.grid(True)\n",
    "plt.show()\n",
    "output = pd.DataFrame({'PassengerId': test.PassengerId, 'Survived': predictions})\n",
    "output.to_csv('/dataset/submission_LR.csv', index=False)\n",
    "\n",
    "# 훈련 정확도 출력\n",
    "train_accuracy = accuracy_score(y, train_predictions_LR)\n",
    "print(f\"훈련 정확도: {train_accuracy}\")"
   ]
  }
 ],
 "metadata": {
  "kernelspec": {
   "display_name": "titanic",
   "language": "python",
   "name": "python3"
  },
  "language_info": {
   "codemirror_mode": {
    "name": "ipython",
    "version": 3
   },
   "file_extension": ".py",
   "mimetype": "text/x-python",
   "name": "python",
   "nbconvert_exporter": "python",
   "pygments_lexer": "ipython3",
   "version": "3.9.20"
  }
 },
 "nbformat": 4,
 "nbformat_minor": 2
}
